{
 "cells": [
  {
   "cell_type": "markdown",
   "metadata": {},
   "source": [
    "# Data Exploration & Cleaning"
   ]
  },
  {
   "cell_type": "markdown",
   "metadata": {},
   "source": [
    "At Download the data.ipynb, we created a script to download all the raw data directly from https://www1.nyc.gov/site/tlc/about/tlc-trip-record-data.page:\n",
    "\n",
    "            * yellow_tripdata_2017-03.parquet\n",
    "            * yellow_tripdata_2017-06.parquet\n",
    "            * yellow_tripdata_2017-11.parquet\n",
    "            \n",
    "and we transform the format from .parquet to .csv., we concatenate the entire dataset and create a pickle to access the data."
   ]
  },
  {
   "cell_type": "code",
   "execution_count": 1,
   "metadata": {},
   "outputs": [],
   "source": [
    "# Libraries\n",
    "import pyarrow.parquet as pq\n",
    "import numpy as np\n",
    "import pandas as pd\n",
    "import seaborn as sns\n",
    "import matplotlib.pyplot as plt\n",
    "%matplotlib inline\n",
    "pd.set_option('display.max_rows', None)\n",
    "pd.set_option('display.max_columns', None)\n",
    "\n",
    "\n",
    "from pandas.tseries.holiday import USFederalHolidayCalendar\n",
    "import datetime as dt\n",
    "\n",
    "import gc\n",
    "\n",
    "import geopandas as gpd"
   ]
  },
  {
   "cell_type": "code",
   "execution_count": 2,
   "metadata": {},
   "outputs": [],
   "source": [
    "# read dataset initial\n",
    "trips = pd.read_pickle('../Data/raw_data/raw_data_2017.pkl')"
   ]
  },
  {
   "cell_type": "markdown",
   "metadata": {},
   "source": [
    "# Data Exploration"
   ]
  },
  {
   "cell_type": "code",
   "execution_count": 4,
   "metadata": {},
   "outputs": [
    {
     "data": {
      "text/html": [
       "<div>\n",
       "<style scoped>\n",
       "    .dataframe tbody tr th:only-of-type {\n",
       "        vertical-align: middle;\n",
       "    }\n",
       "\n",
       "    .dataframe tbody tr th {\n",
       "        vertical-align: top;\n",
       "    }\n",
       "\n",
       "    .dataframe thead th {\n",
       "        text-align: right;\n",
       "    }\n",
       "</style>\n",
       "<table border=\"1\" class=\"dataframe\">\n",
       "  <thead>\n",
       "    <tr style=\"text-align: right;\">\n",
       "      <th></th>\n",
       "      <th>VendorID</th>\n",
       "      <th>tpep_pickup_datetime</th>\n",
       "      <th>tpep_dropoff_datetime</th>\n",
       "      <th>passenger_count</th>\n",
       "      <th>trip_distance</th>\n",
       "      <th>RatecodeID</th>\n",
       "      <th>store_and_fwd_flag</th>\n",
       "      <th>PULocationID</th>\n",
       "      <th>DOLocationID</th>\n",
       "      <th>payment_type</th>\n",
       "      <th>fare_amount</th>\n",
       "      <th>extra</th>\n",
       "      <th>mta_tax</th>\n",
       "      <th>tip_amount</th>\n",
       "      <th>tolls_amount</th>\n",
       "      <th>improvement_surcharge</th>\n",
       "      <th>total_amount</th>\n",
       "      <th>congestion_surcharge</th>\n",
       "      <th>airport_fee</th>\n",
       "    </tr>\n",
       "  </thead>\n",
       "  <tbody>\n",
       "    <tr>\n",
       "      <td>0</td>\n",
       "      <td>1</td>\n",
       "      <td>2017-03-01 00:38:16</td>\n",
       "      <td>2017-03-01 00:59:21</td>\n",
       "      <td>1</td>\n",
       "      <td>10.5</td>\n",
       "      <td>1</td>\n",
       "      <td>N</td>\n",
       "      <td>231</td>\n",
       "      <td>42</td>\n",
       "      <td>1</td>\n",
       "      <td>30.5</td>\n",
       "      <td>0.5</td>\n",
       "      <td>0.5</td>\n",
       "      <td>6.00</td>\n",
       "      <td>0.0</td>\n",
       "      <td>0.3</td>\n",
       "      <td>37.80</td>\n",
       "      <td>None</td>\n",
       "      <td>None</td>\n",
       "    </tr>\n",
       "    <tr>\n",
       "      <td>1</td>\n",
       "      <td>1</td>\n",
       "      <td>2017-03-01 00:25:01</td>\n",
       "      <td>2017-03-01 00:31:36</td>\n",
       "      <td>1</td>\n",
       "      <td>1.4</td>\n",
       "      <td>1</td>\n",
       "      <td>N</td>\n",
       "      <td>239</td>\n",
       "      <td>262</td>\n",
       "      <td>1</td>\n",
       "      <td>7.5</td>\n",
       "      <td>0.5</td>\n",
       "      <td>0.5</td>\n",
       "      <td>1.75</td>\n",
       "      <td>0.0</td>\n",
       "      <td>0.3</td>\n",
       "      <td>10.55</td>\n",
       "      <td>None</td>\n",
       "      <td>None</td>\n",
       "    </tr>\n",
       "    <tr>\n",
       "      <td>2</td>\n",
       "      <td>1</td>\n",
       "      <td>2017-03-01 00:43:48</td>\n",
       "      <td>2017-03-01 00:44:17</td>\n",
       "      <td>1</td>\n",
       "      <td>0.0</td>\n",
       "      <td>1</td>\n",
       "      <td>N</td>\n",
       "      <td>145</td>\n",
       "      <td>145</td>\n",
       "      <td>2</td>\n",
       "      <td>2.5</td>\n",
       "      <td>0.5</td>\n",
       "      <td>0.5</td>\n",
       "      <td>0.00</td>\n",
       "      <td>0.0</td>\n",
       "      <td>0.3</td>\n",
       "      <td>3.80</td>\n",
       "      <td>None</td>\n",
       "      <td>None</td>\n",
       "    </tr>\n",
       "    <tr>\n",
       "      <td>3</td>\n",
       "      <td>1</td>\n",
       "      <td>2017-03-01 00:47:17</td>\n",
       "      <td>2017-03-01 00:47:33</td>\n",
       "      <td>1</td>\n",
       "      <td>0.0</td>\n",
       "      <td>1</td>\n",
       "      <td>N</td>\n",
       "      <td>145</td>\n",
       "      <td>145</td>\n",
       "      <td>2</td>\n",
       "      <td>2.5</td>\n",
       "      <td>0.5</td>\n",
       "      <td>0.5</td>\n",
       "      <td>0.00</td>\n",
       "      <td>0.0</td>\n",
       "      <td>0.3</td>\n",
       "      <td>3.80</td>\n",
       "      <td>None</td>\n",
       "      <td>None</td>\n",
       "    </tr>\n",
       "    <tr>\n",
       "      <td>4</td>\n",
       "      <td>1</td>\n",
       "      <td>2017-03-01 00:13:37</td>\n",
       "      <td>2017-03-01 00:13:46</td>\n",
       "      <td>1</td>\n",
       "      <td>0.0</td>\n",
       "      <td>1</td>\n",
       "      <td>N</td>\n",
       "      <td>145</td>\n",
       "      <td>145</td>\n",
       "      <td>2</td>\n",
       "      <td>2.5</td>\n",
       "      <td>0.5</td>\n",
       "      <td>0.5</td>\n",
       "      <td>0.00</td>\n",
       "      <td>0.0</td>\n",
       "      <td>0.3</td>\n",
       "      <td>3.80</td>\n",
       "      <td>None</td>\n",
       "      <td>None</td>\n",
       "    </tr>\n",
       "  </tbody>\n",
       "</table>\n",
       "</div>"
      ],
      "text/plain": [
       "   VendorID tpep_pickup_datetime tpep_dropoff_datetime  passenger_count  \\\n",
       "0         1  2017-03-01 00:38:16   2017-03-01 00:59:21                1   \n",
       "1         1  2017-03-01 00:25:01   2017-03-01 00:31:36                1   \n",
       "2         1  2017-03-01 00:43:48   2017-03-01 00:44:17                1   \n",
       "3         1  2017-03-01 00:47:17   2017-03-01 00:47:33                1   \n",
       "4         1  2017-03-01 00:13:37   2017-03-01 00:13:46                1   \n",
       "\n",
       "   trip_distance  RatecodeID store_and_fwd_flag  PULocationID  DOLocationID  \\\n",
       "0           10.5           1                  N           231            42   \n",
       "1            1.4           1                  N           239           262   \n",
       "2            0.0           1                  N           145           145   \n",
       "3            0.0           1                  N           145           145   \n",
       "4            0.0           1                  N           145           145   \n",
       "\n",
       "   payment_type  fare_amount  extra  mta_tax  tip_amount  tolls_amount  \\\n",
       "0             1         30.5    0.5      0.5        6.00           0.0   \n",
       "1             1          7.5    0.5      0.5        1.75           0.0   \n",
       "2             2          2.5    0.5      0.5        0.00           0.0   \n",
       "3             2          2.5    0.5      0.5        0.00           0.0   \n",
       "4             2          2.5    0.5      0.5        0.00           0.0   \n",
       "\n",
       "   improvement_surcharge  total_amount congestion_surcharge airport_fee  \n",
       "0                    0.3         37.80                 None        None  \n",
       "1                    0.3         10.55                 None        None  \n",
       "2                    0.3          3.80                 None        None  \n",
       "3                    0.3          3.80                 None        None  \n",
       "4                    0.3          3.80                 None        None  "
      ]
     },
     "execution_count": 4,
     "metadata": {},
     "output_type": "execute_result"
    }
   ],
   "source": [
    "trips.head()"
   ]
  },
  {
   "cell_type": "code",
   "execution_count": 5,
   "metadata": {},
   "outputs": [
    {
     "data": {
      "text/plain": [
       "(29237237, 19)"
      ]
     },
     "execution_count": 5,
     "metadata": {},
     "output_type": "execute_result"
    }
   ],
   "source": [
    "trips.shape"
   ]
  },
  {
   "cell_type": "code",
   "execution_count": 6,
   "metadata": {},
   "outputs": [
    {
     "data": {
      "text/html": [
       "<div>\n",
       "<style scoped>\n",
       "    .dataframe tbody tr th:only-of-type {\n",
       "        vertical-align: middle;\n",
       "    }\n",
       "\n",
       "    .dataframe tbody tr th {\n",
       "        vertical-align: top;\n",
       "    }\n",
       "\n",
       "    .dataframe thead th {\n",
       "        text-align: right;\n",
       "    }\n",
       "</style>\n",
       "<table border=\"1\" class=\"dataframe\">\n",
       "  <thead>\n",
       "    <tr style=\"text-align: right;\">\n",
       "      <th></th>\n",
       "      <th>VendorID</th>\n",
       "      <th>passenger_count</th>\n",
       "      <th>trip_distance</th>\n",
       "      <th>RatecodeID</th>\n",
       "      <th>PULocationID</th>\n",
       "      <th>DOLocationID</th>\n",
       "      <th>payment_type</th>\n",
       "      <th>fare_amount</th>\n",
       "      <th>extra</th>\n",
       "      <th>mta_tax</th>\n",
       "      <th>tip_amount</th>\n",
       "      <th>tolls_amount</th>\n",
       "      <th>improvement_surcharge</th>\n",
       "      <th>total_amount</th>\n",
       "    </tr>\n",
       "  </thead>\n",
       "  <tbody>\n",
       "    <tr>\n",
       "      <td>count</td>\n",
       "      <td>2.923724e+07</td>\n",
       "      <td>2.923724e+07</td>\n",
       "      <td>2.923724e+07</td>\n",
       "      <td>2.923724e+07</td>\n",
       "      <td>2.923724e+07</td>\n",
       "      <td>2.923724e+07</td>\n",
       "      <td>2.923724e+07</td>\n",
       "      <td>2.923724e+07</td>\n",
       "      <td>2.923724e+07</td>\n",
       "      <td>2.923724e+07</td>\n",
       "      <td>2.923724e+07</td>\n",
       "      <td>2.923724e+07</td>\n",
       "      <td>2.923724e+07</td>\n",
       "      <td>2.923724e+07</td>\n",
       "    </tr>\n",
       "    <tr>\n",
       "      <td>mean</td>\n",
       "      <td>1.545916e+00</td>\n",
       "      <td>1.617837e+00</td>\n",
       "      <td>2.919382e+00</td>\n",
       "      <td>1.043349e+00</td>\n",
       "      <td>1.632024e+02</td>\n",
       "      <td>1.611910e+02</td>\n",
       "      <td>1.329499e+00</td>\n",
       "      <td>1.310928e+01</td>\n",
       "      <td>3.339417e-01</td>\n",
       "      <td>4.973105e-01</td>\n",
       "      <td>1.874053e+00</td>\n",
       "      <td>3.290105e-01</td>\n",
       "      <td>2.996283e-01</td>\n",
       "      <td>1.644708e+01</td>\n",
       "    </tr>\n",
       "    <tr>\n",
       "      <td>std</td>\n",
       "      <td>4.978872e-01</td>\n",
       "      <td>1.261040e+00</td>\n",
       "      <td>4.476505e+00</td>\n",
       "      <td>5.095050e-01</td>\n",
       "      <td>6.661408e+01</td>\n",
       "      <td>7.047813e+01</td>\n",
       "      <td>4.903464e-01</td>\n",
       "      <td>1.472796e+02</td>\n",
       "      <td>4.615720e-01</td>\n",
       "      <td>7.081616e-02</td>\n",
       "      <td>2.645560e+00</td>\n",
       "      <td>1.968867e+00</td>\n",
       "      <td>1.408884e-02</td>\n",
       "      <td>1.475227e+02</td>\n",
       "    </tr>\n",
       "    <tr>\n",
       "      <td>min</td>\n",
       "      <td>1.000000e+00</td>\n",
       "      <td>0.000000e+00</td>\n",
       "      <td>0.000000e+00</td>\n",
       "      <td>1.000000e+00</td>\n",
       "      <td>1.000000e+00</td>\n",
       "      <td>1.000000e+00</td>\n",
       "      <td>1.000000e+00</td>\n",
       "      <td>-5.500000e+02</td>\n",
       "      <td>-5.371000e+01</td>\n",
       "      <td>-5.000000e-01</td>\n",
       "      <td>-1.120000e+02</td>\n",
       "      <td>-1.750000e+01</td>\n",
       "      <td>-3.000000e-01</td>\n",
       "      <td>-5.503000e+02</td>\n",
       "    </tr>\n",
       "    <tr>\n",
       "      <td>25%</td>\n",
       "      <td>1.000000e+00</td>\n",
       "      <td>1.000000e+00</td>\n",
       "      <td>9.700000e-01</td>\n",
       "      <td>1.000000e+00</td>\n",
       "      <td>1.140000e+02</td>\n",
       "      <td>1.070000e+02</td>\n",
       "      <td>1.000000e+00</td>\n",
       "      <td>6.500000e+00</td>\n",
       "      <td>0.000000e+00</td>\n",
       "      <td>5.000000e-01</td>\n",
       "      <td>0.000000e+00</td>\n",
       "      <td>0.000000e+00</td>\n",
       "      <td>3.000000e-01</td>\n",
       "      <td>8.750000e+00</td>\n",
       "    </tr>\n",
       "    <tr>\n",
       "      <td>50%</td>\n",
       "      <td>2.000000e+00</td>\n",
       "      <td>1.000000e+00</td>\n",
       "      <td>1.600000e+00</td>\n",
       "      <td>1.000000e+00</td>\n",
       "      <td>1.620000e+02</td>\n",
       "      <td>1.620000e+02</td>\n",
       "      <td>1.000000e+00</td>\n",
       "      <td>9.500000e+00</td>\n",
       "      <td>0.000000e+00</td>\n",
       "      <td>5.000000e-01</td>\n",
       "      <td>1.360000e+00</td>\n",
       "      <td>0.000000e+00</td>\n",
       "      <td>3.000000e-01</td>\n",
       "      <td>1.180000e+01</td>\n",
       "    </tr>\n",
       "    <tr>\n",
       "      <td>75%</td>\n",
       "      <td>2.000000e+00</td>\n",
       "      <td>2.000000e+00</td>\n",
       "      <td>3.010000e+00</td>\n",
       "      <td>1.000000e+00</td>\n",
       "      <td>2.330000e+02</td>\n",
       "      <td>2.330000e+02</td>\n",
       "      <td>2.000000e+00</td>\n",
       "      <td>1.450000e+01</td>\n",
       "      <td>5.000000e-01</td>\n",
       "      <td>5.000000e-01</td>\n",
       "      <td>2.460000e+00</td>\n",
       "      <td>0.000000e+00</td>\n",
       "      <td>3.000000e-01</td>\n",
       "      <td>1.780000e+01</td>\n",
       "    </tr>\n",
       "    <tr>\n",
       "      <td>max</td>\n",
       "      <td>2.000000e+00</td>\n",
       "      <td>1.920000e+02</td>\n",
       "      <td>9.496980e+03</td>\n",
       "      <td>9.900000e+01</td>\n",
       "      <td>2.650000e+02</td>\n",
       "      <td>2.650000e+02</td>\n",
       "      <td>5.000000e+00</td>\n",
       "      <td>6.304618e+05</td>\n",
       "      <td>6.980000e+01</td>\n",
       "      <td>1.400000e+02</td>\n",
       "      <td>4.500000e+02</td>\n",
       "      <td>1.018950e+03</td>\n",
       "      <td>1.000000e+00</td>\n",
       "      <td>6.304631e+05</td>\n",
       "    </tr>\n",
       "  </tbody>\n",
       "</table>\n",
       "</div>"
      ],
      "text/plain": [
       "           VendorID  passenger_count  trip_distance    RatecodeID  \\\n",
       "count  2.923724e+07     2.923724e+07   2.923724e+07  2.923724e+07   \n",
       "mean   1.545916e+00     1.617837e+00   2.919382e+00  1.043349e+00   \n",
       "std    4.978872e-01     1.261040e+00   4.476505e+00  5.095050e-01   \n",
       "min    1.000000e+00     0.000000e+00   0.000000e+00  1.000000e+00   \n",
       "25%    1.000000e+00     1.000000e+00   9.700000e-01  1.000000e+00   \n",
       "50%    2.000000e+00     1.000000e+00   1.600000e+00  1.000000e+00   \n",
       "75%    2.000000e+00     2.000000e+00   3.010000e+00  1.000000e+00   \n",
       "max    2.000000e+00     1.920000e+02   9.496980e+03  9.900000e+01   \n",
       "\n",
       "       PULocationID  DOLocationID  payment_type   fare_amount         extra  \\\n",
       "count  2.923724e+07  2.923724e+07  2.923724e+07  2.923724e+07  2.923724e+07   \n",
       "mean   1.632024e+02  1.611910e+02  1.329499e+00  1.310928e+01  3.339417e-01   \n",
       "std    6.661408e+01  7.047813e+01  4.903464e-01  1.472796e+02  4.615720e-01   \n",
       "min    1.000000e+00  1.000000e+00  1.000000e+00 -5.500000e+02 -5.371000e+01   \n",
       "25%    1.140000e+02  1.070000e+02  1.000000e+00  6.500000e+00  0.000000e+00   \n",
       "50%    1.620000e+02  1.620000e+02  1.000000e+00  9.500000e+00  0.000000e+00   \n",
       "75%    2.330000e+02  2.330000e+02  2.000000e+00  1.450000e+01  5.000000e-01   \n",
       "max    2.650000e+02  2.650000e+02  5.000000e+00  6.304618e+05  6.980000e+01   \n",
       "\n",
       "            mta_tax    tip_amount  tolls_amount  improvement_surcharge  \\\n",
       "count  2.923724e+07  2.923724e+07  2.923724e+07           2.923724e+07   \n",
       "mean   4.973105e-01  1.874053e+00  3.290105e-01           2.996283e-01   \n",
       "std    7.081616e-02  2.645560e+00  1.968867e+00           1.408884e-02   \n",
       "min   -5.000000e-01 -1.120000e+02 -1.750000e+01          -3.000000e-01   \n",
       "25%    5.000000e-01  0.000000e+00  0.000000e+00           3.000000e-01   \n",
       "50%    5.000000e-01  1.360000e+00  0.000000e+00           3.000000e-01   \n",
       "75%    5.000000e-01  2.460000e+00  0.000000e+00           3.000000e-01   \n",
       "max    1.400000e+02  4.500000e+02  1.018950e+03           1.000000e+00   \n",
       "\n",
       "       total_amount  \n",
       "count  2.923724e+07  \n",
       "mean   1.644708e+01  \n",
       "std    1.475227e+02  \n",
       "min   -5.503000e+02  \n",
       "25%    8.750000e+00  \n",
       "50%    1.180000e+01  \n",
       "75%    1.780000e+01  \n",
       "max    6.304631e+05  "
      ]
     },
     "execution_count": 6,
     "metadata": {},
     "output_type": "execute_result"
    }
   ],
   "source": [
    "trips.describe()"
   ]
  },
  {
   "cell_type": "code",
   "execution_count": 7,
   "metadata": {},
   "outputs": [
    {
     "name": "stdout",
     "output_type": "stream",
     "text": [
      "<class 'pandas.core.frame.DataFrame'>\n",
      "RangeIndex: 29237237 entries, 0 to 29237236\n",
      "Data columns (total 19 columns):\n",
      "VendorID                 int64\n",
      "tpep_pickup_datetime     datetime64[ns]\n",
      "tpep_dropoff_datetime    datetime64[ns]\n",
      "passenger_count          int64\n",
      "trip_distance            float64\n",
      "RatecodeID               int64\n",
      "store_and_fwd_flag       object\n",
      "PULocationID             int64\n",
      "DOLocationID             int64\n",
      "payment_type             int64\n",
      "fare_amount              float64\n",
      "extra                    float64\n",
      "mta_tax                  float64\n",
      "tip_amount               float64\n",
      "tolls_amount             float64\n",
      "improvement_surcharge    float64\n",
      "total_amount             float64\n",
      "congestion_surcharge     object\n",
      "airport_fee              object\n",
      "dtypes: datetime64[ns](2), float64(8), int64(6), object(3)\n",
      "memory usage: 4.1+ GB\n"
     ]
    }
   ],
   "source": [
    "trips.info()"
   ]
  },
  {
   "cell_type": "markdown",
   "metadata": {},
   "source": [
    "### Missing values\n",
    "​\n",
    "We study the percentage of missing values in each feature, to eliminate possible features with an excess of missings."
   ]
  },
  {
   "cell_type": "code",
   "execution_count": 8,
   "metadata": {},
   "outputs": [
    {
     "name": "stdout",
     "output_type": "stream",
     "text": [
      "% Missing: \n",
      " airport_fee             1.0\n",
      "congestion_surcharge    1.0\n",
      "dtype: float64\n"
     ]
    },
    {
     "data": {
      "image/png": "[encoded data removed]",
      "text/plain": [
       "<Figure size 360x360 with 1 Axes>"
      ]
     },
     "metadata": {
      "needs_background": "light"
     },
     "output_type": "display_data"
    }
   ],
   "source": [
    "#Checking Missing Values in the features\n",
    "n_features = trips.shape[1]\n",
    "tot_reg = trips.shape[0]\n",
    "\n",
    "# % Missing\n",
    "nan_val = trips.isna().sum()[trips.isna().sum() > 0].sort_values(ascending=False)/tot_reg\n",
    "\n",
    "print('% Missing: \\n', nan_val)\n",
    "\n",
    "fig, axs = plt.subplots(figsize=(5, 5))\n",
    "\n",
    "sns.barplot(y = nan_val.index[0:n_features], \n",
    "            x = nan_val.values[0:n_features], \n",
    "            color = '#4af19f')\n",
    "\n",
    "plt.title(f'NaN values of train dataset')\n",
    "plt.xlabel('NaN values')\n",
    "plt.show()"
   ]
  },
  {
   "cell_type": "markdown",
   "metadata": {},
   "source": [
    "As we see, we have 2 features with 100% of missing values, so we proceed to eliminate them."
   ]
  },
  {
   "cell_type": "code",
   "execution_count": 3,
   "metadata": {},
   "outputs": [],
   "source": [
    "trips = trips.drop(['congestion_surcharge','airport_fee'],axis = 1)"
   ]
  },
  {
   "cell_type": "markdown",
   "metadata": {},
   "source": [
    "# Data Cleaning"
   ]
  },
  {
   "cell_type": "markdown",
   "metadata": {},
   "source": [
    "First, we clean the non cuantitative data related with the target."
   ]
  },
  {
   "cell_type": "markdown",
   "metadata": {},
   "source": [
    "##### Datetime\n"
   ]
  },
  {
   "cell_type": "code",
   "execution_count": 4,
   "metadata": {},
   "outputs": [
    {
     "name": "stdout",
     "output_type": "stream",
     "text": [
      "max tpep_pickup_datetime:  2041-11-15 02:57:16\n",
      "min tpep_pickup_datetime:  2001-01-01 00:04:13\n",
      "max tpep_dropoff_datetime:  2041-11-15 03:12:19\n",
      "min tpep_dropoff_datetime:  2001-01-01 00:04:51\n"
     ]
    }
   ],
   "source": [
    "# Detect outliers in datetime\n",
    "print('max tpep_pickup_datetime: ',trips['tpep_pickup_datetime'].max())\n",
    "print('min tpep_pickup_datetime: ',trips['tpep_pickup_datetime'].min())\n",
    "\n",
    "print('max tpep_dropoff_datetime: ',trips['tpep_dropoff_datetime'].max())\n",
    "print('min tpep_dropoff_datetime: ',trips['tpep_dropoff_datetime'].min())"
   ]
  },
  {
   "cell_type": "code",
   "execution_count": 4,
   "metadata": {},
   "outputs": [],
   "source": [
    "trips = trips[(trips['tpep_pickup_datetime'] >= '2017-03-01 00:00:00') \n",
    "    & (trips['tpep_pickup_datetime'] <= '2017-11-30 23:59:59') \n",
    "    & (trips['tpep_dropoff_datetime'] >= '2017-03-01 00:00:00') \n",
    "    & (trips['tpep_dropoff_datetime'] <= '2017-11-30 23:59:59')]"
   ]
  },
  {
   "cell_type": "code",
   "execution_count": 6,
   "metadata": {},
   "outputs": [
    {
     "data": {
      "text/plain": [
       "(29233161, 17)"
      ]
     },
     "execution_count": 6,
     "metadata": {},
     "output_type": "execute_result"
    }
   ],
   "source": [
    "trips.shape"
   ]
  },
  {
   "cell_type": "markdown",
   "metadata": {},
   "source": [
    "##### Pickup & Dropoff dates"
   ]
  },
  {
   "cell_type": "code",
   "execution_count": 5,
   "metadata": {},
   "outputs": [],
   "source": [
    "trips['tpep_pickup_date'] = trips['tpep_pickup_datetime'].dt.date\n",
    "trips['tpep_dropoff_date'] = trips['tpep_dropoff_datetime'].dt.date"
   ]
  },
  {
   "cell_type": "code",
   "execution_count": 19,
   "metadata": {},
   "outputs": [
    {
     "data": {
      "image/png": "[encoded data removed]",
      "text/plain": [
       "<Figure size 1296x720 with 2 Axes>"
      ]
     },
     "metadata": {
      "needs_background": "light"
     },
     "output_type": "display_data"
    }
   ],
   "source": [
    "f, axes = plt.subplots(2, 1)\n",
    "\n",
    "f.set_figheight(10)\n",
    "f.set_figwidth(18)\n",
    "\n",
    "df = trips.groupby('tpep_pickup_date').size().to_frame('trips').reset_index()\n",
    "df2 = trips.groupby('tpep_dropoff_date').size().to_frame('trips').reset_index()\n",
    "\n",
    "sns.barplot(x='tpep_pickup_date', y=\"trips\", data=df, ax=axes[0], color = '#32dc9e')\n",
    "sns.barplot(x='tpep_dropoff_date', y=\"trips\", data=df2, ax=axes[1], color = '#00a4f1')\n",
    "\n",
    "plt.sca(axes[0])\n",
    "plt.tick_params(\n",
    "    axis='x',          \n",
    "    which='both',      \n",
    "    bottom=False,      \n",
    "    top=False,         \n",
    "    labelbottom=False) \n",
    "\n",
    "plt.sca(axes[1])\n",
    "plt.tick_params(\n",
    "axis = 'x',\n",
    "rotation = 90) \n"
   ]
  },
  {
   "cell_type": "markdown",
   "metadata": {},
   "source": [
    "Fairly homogeneous, but have to eliminate the error on the pickup date on 2017-10-31 because is out of our period of study. Also, we can appreciate some dropoff dates with low trips, they correspond to the trips initiated on the night of the day before and ended in the early morning of the corresponding day."
   ]
  },
  {
   "cell_type": "code",
   "execution_count": 5,
   "metadata": {},
   "outputs": [],
   "source": [
    "trips = trips[trips['tpep_pickup_datetime'].dt.month != 10]"
   ]
  },
  {
   "cell_type": "code",
   "execution_count": 21,
   "metadata": {},
   "outputs": [
    {
     "data": {
      "image/png": "[encoded data removed]",
      "text/plain": [
       "<Figure size 1296x720 with 2 Axes>"
      ]
     },
     "metadata": {
      "needs_background": "light"
     },
     "output_type": "display_data"
    }
   ],
   "source": [
    "f, axes = plt.subplots(2, 1)\n",
    "\n",
    "f.set_figheight(10)\n",
    "f.set_figwidth(18)\n",
    "\n",
    "df = trips.groupby('tpep_pickup_date').size().to_frame('trips').reset_index()\n",
    "df2 = trips.groupby('tpep_dropoff_date').size().to_frame('trips').reset_index()\n",
    "\n",
    "sns.barplot(x='tpep_pickup_date', y=\"trips\", data=df, ax=axes[0], color = '#32dc9e')\n",
    "sns.barplot(x='tpep_dropoff_date', y=\"trips\", data=df2, ax=axes[1], color = '#00a4f1')\n",
    "\n",
    "plt.sca(axes[0])\n",
    "plt.tick_params(\n",
    "    axis='x',          \n",
    "    which='both',      \n",
    "    bottom=False,      \n",
    "    top=False,         \n",
    "    labelbottom=False) \n",
    "\n",
    "plt.sca(axes[1])\n",
    "plt.tick_params(\n",
    "axis = 'x',\n",
    "rotation = 90) "
   ]
  },
  {
   "cell_type": "markdown",
   "metadata": {},
   "source": [
    "##### Payment type"
   ]
  },
  {
   "cell_type": "markdown",
   "metadata": {},
   "source": [
    "La dimension del dataset es demasiado grande, vamos a estudiar si podemos eliminar registros para reducir su dimensión de acuerdo al propósito del ejercicio de contruir un modelo para predecir la cantidad de propina en cada trayecto."
   ]
  },
  {
   "attachments": {
    "image.png": {
     "image/png": "[encoded data removed]"
    }
   },
   "cell_type": "markdown",
   "metadata": {},
   "source": [
    "Observando la descripción del dataset:\n",
    "\n",
    "![image.png](attachment:image.png)\n",
    "\n",
    "Vemos que las propinas en efectivo no están incluidas, por lo que las eliminamos.\n",
    "\n",
    "Payment_type:\n",
    "\n",
    "    1 = Credit card\n",
    "    2 = Cash\n",
    "    3 = No charge\n",
    "    4 = Dispute\n",
    "    5 = Unknown\n",
    "    6 = Voided trip"
   ]
  },
  {
   "cell_type": "code",
   "execution_count": 22,
   "metadata": {},
   "outputs": [
    {
     "data": {
      "text/html": [
       "<div>\n",
       "<style scoped>\n",
       "    .dataframe tbody tr th:only-of-type {\n",
       "        vertical-align: middle;\n",
       "    }\n",
       "\n",
       "    .dataframe tbody tr th {\n",
       "        vertical-align: top;\n",
       "    }\n",
       "\n",
       "    .dataframe thead th {\n",
       "        text-align: right;\n",
       "    }\n",
       "</style>\n",
       "<table border=\"1\" class=\"dataframe\">\n",
       "  <thead>\n",
       "    <tr style=\"text-align: right;\">\n",
       "      <th></th>\n",
       "      <th>Total trips</th>\n",
       "    </tr>\n",
       "    <tr>\n",
       "      <th>payment_type</th>\n",
       "      <th></th>\n",
       "    </tr>\n",
       "  </thead>\n",
       "  <tbody>\n",
       "    <tr>\n",
       "      <td>1</td>\n",
       "      <td>19841923</td>\n",
       "    </tr>\n",
       "    <tr>\n",
       "      <td>2</td>\n",
       "      <td>9193258</td>\n",
       "    </tr>\n",
       "    <tr>\n",
       "      <td>3</td>\n",
       "      <td>154068</td>\n",
       "    </tr>\n",
       "    <tr>\n",
       "      <td>4</td>\n",
       "      <td>43703</td>\n",
       "    </tr>\n",
       "    <tr>\n",
       "      <td>5</td>\n",
       "      <td>1</td>\n",
       "    </tr>\n",
       "  </tbody>\n",
       "</table>\n",
       "</div>"
      ],
      "text/plain": [
       "              Total trips\n",
       "payment_type             \n",
       "1                19841923\n",
       "2                 9193258\n",
       "3                  154068\n",
       "4                   43703\n",
       "5                       1"
      ]
     },
     "execution_count": 22,
     "metadata": {},
     "output_type": "execute_result"
    }
   ],
   "source": [
    "pie_trips = trips.groupby(['payment_type']).size().to_frame('Total trips')\n",
    "pie_trips"
   ]
  },
  {
   "cell_type": "code",
   "execution_count": 23,
   "metadata": {},
   "outputs": [
    {
     "data": {
      "image/png": "[encoded data removed]",
      "text/plain": [
       "<Figure size 576x432 with 1 Axes>"
      ]
     },
     "metadata": {},
     "output_type": "display_data"
    }
   ],
   "source": [
    "# Pie chart\n",
    "labels = ['Credit Card', 'Cash', 'No charge', 'Dispute', 'Unknown']\n",
    "sizes = pie_trips['Total trips'].values\n",
    "\n",
    "plt.figure(figsize=(8, 6))\n",
    "plt.pie(sizes,colors=['#32dc9e','#00c3ca','#00a4f1','#007bf7','#623dc8'])\n",
    "\n",
    "labels2 = ['{0} - {1:1.2f} %'.format(i, j) for i, j in zip(labels, 100.*sizes/sizes.sum())]\n",
    "plt.legend(labels2, loc='center left', bbox_to_anchor=(-0.35, .5), fontsize=8)\n",
    "plt.show()"
   ]
  },
  {
   "cell_type": "markdown",
   "metadata": {},
   "source": [
    "Analizamos el espectro de propinas para las formas de pago distintas a credit cash"
   ]
  },
  {
   "cell_type": "markdown",
   "metadata": {},
   "source": [
    "###### Payment type - distributions"
   ]
  },
  {
   "cell_type": "code",
   "execution_count": 25,
   "metadata": {},
   "outputs": [
    {
     "data": {
      "text/plain": [
       "Text(0.5, 1.0, 'Dispute')"
      ]
     },
     "execution_count": 25,
     "metadata": {},
     "output_type": "execute_result"
    },
    {
     "data": {
      "image/png": "[encoded data removed]",
      "text/plain": [
       "<Figure size 1080x792 with 4 Axes>"
      ]
     },
     "metadata": {
      "needs_background": "light"
     },
     "output_type": "display_data"
    }
   ],
   "source": [
    "f, axes = plt.subplots(2, 2)\n",
    "\n",
    "f.set_figheight(11)\n",
    "f.set_figwidth(15)\n",
    "sns.boxplot(x=trips.loc[trips['payment_type']==1]['tip_amount'], ax=axes[0][0], color = '#623dc8')\n",
    "sns.boxplot(x=trips.loc[trips['payment_type']==2]['tip_amount'], ax=axes[0][1])\n",
    "sns.boxplot(x=trips.loc[trips['payment_type']==3]['tip_amount'], ax=axes[1][0])\n",
    "sns.boxplot(x=trips.loc[trips['payment_type']==4]['tip_amount'], ax=axes[1][1])\n",
    "\n",
    "f.suptitle('Payment type distributions')\n",
    "\n",
    "axes[0, 0].set_title('Credit Card')\n",
    "axes[0, 1].set_title('Cash')\n",
    "axes[1, 0].set_title('No charge')\n",
    "axes[1, 1].set_title('Dispute')\n"
   ]
  },
  {
   "cell_type": "markdown",
   "metadata": {},
   "source": [
    "Therefore, we are left with only the payment method = 1 (credit card), since we have seen that the rest of the payment methods are not representative for our model, since the entire distribution is around 0, and corresponds with the description."
   ]
  },
  {
   "cell_type": "code",
   "execution_count": 6,
   "metadata": {},
   "outputs": [
    {
     "data": {
      "text/plain": [
       "(19841923, 17)"
      ]
     },
     "execution_count": 6,
     "metadata": {},
     "output_type": "execute_result"
    }
   ],
   "source": [
    "trips = trips.loc[trips['payment_type']==1]\n",
    "trips.shape"
   ]
  },
  {
   "cell_type": "markdown",
   "metadata": {},
   "source": [
    "###  Individual analysis of the variables"
   ]
  },
  {
   "cell_type": "markdown",
   "metadata": {},
   "source": [
    "We compute the histogram of all variables. To view their distribution and detect outliers"
   ]
  },
  {
   "cell_type": "markdown",
   "metadata": {},
   "source": [
    "##### Cuantitative variables"
   ]
  },
  {
   "cell_type": "code",
   "execution_count": 27,
   "metadata": {},
   "outputs": [
    {
     "data": {
      "text/plain": [
       "<AxesSubplot:xlabel='tip_amount'>"
      ]
     },
     "execution_count": 27,
     "metadata": {},
     "output_type": "execute_result"
    },
    {
     "data": {
      "image/png": "[encoded data removed]",
      "text/plain": [
       "<Figure size 1296x576 with 6 Axes>"
      ]
     },
     "metadata": {
      "needs_background": "light"
     },
     "output_type": "display_data"
    }
   ],
   "source": [
    "f, axes = plt.subplots(2, 3)\n",
    "\n",
    "f.set_figheight(8)\n",
    "f.set_figwidth(18)\n",
    "\n",
    "sns.distplot(trips['fare_amount'], ax=axes[0][0], color = '#623dc8')\n",
    "sns.distplot(trips['extra'], ax=axes[0][1], color = '#32dc9e')\n",
    "sns.distplot(trips['trip_distance'], ax=axes[0][2], color = '#00c3ca')\n",
    "\n",
    "sns.distplot(trips['tolls_amount'], ax=axes[1][0], color = '#00a4f1')\n",
    "sns.distplot(trips['total_amount'], ax=axes[1][1], color = '#007bf7')\n",
    "sns.distplot(trips['tip_amount'], ax=axes[1][2], color = '#0095f9')"
   ]
  },
  {
   "cell_type": "markdown",
   "metadata": {},
   "source": [
    "Analyzing the distributions of the quantitative variables we can eliminate the outliers and keep the following hypotheses:\n",
    "    - trip distance < 100\n",
    "    - total amount < 200\n",
    "    - toll amount < 50\n",
    "    - extra > 0\n",
    "    - tip amount >= 0"
   ]
  },
  {
   "cell_type": "code",
   "execution_count": 7,
   "metadata": {},
   "outputs": [
    {
     "data": {
      "text/plain": [
       "(19792158, 17)"
      ]
     },
     "execution_count": 7,
     "metadata": {},
     "output_type": "execute_result"
    }
   ],
   "source": [
    "trips = trips[(trips['trip_distance']<=100) & (trips['total_amount']<=100) & (trips['total_amount']>0) & (trips['tolls_amount']< 20) & (trips['extra']>= 0) & (trips['tip_amount']>= 0)]\n",
    "trips.shape"
   ]
  },
  {
   "cell_type": "markdown",
   "metadata": {},
   "source": [
    "After filtering"
   ]
  },
  {
   "cell_type": "code",
   "execution_count": 29,
   "metadata": {},
   "outputs": [
    {
     "data": {
      "text/plain": [
       "<AxesSubplot:xlabel='tip_amount'>"
      ]
     },
     "execution_count": 29,
     "metadata": {},
     "output_type": "execute_result"
    },
    {
     "data": {
      "image/png": "[encoded data removed]",
      "text/plain": [
       "<Figure size 1296x576 with 6 Axes>"
      ]
     },
     "metadata": {
      "needs_background": "light"
     },
     "output_type": "display_data"
    }
   ],
   "source": [
    "f, axes = plt.subplots(2, 3)\n",
    "\n",
    "f.set_figheight(8)\n",
    "f.set_figwidth(18)\n",
    "\n",
    "sns.distplot(trips['fare_amount'], ax=axes[0][0], color = '#623dc8')\n",
    "sns.distplot(trips['extra'], ax=axes[0][1], color = '#32dc9e')\n",
    "sns.distplot(trips['trip_distance'], ax=axes[0][2], color = '#00c3ca')\n",
    "\n",
    "sns.distplot(trips['tolls_amount'], ax=axes[1][0], color = '#00a4f1')\n",
    "sns.distplot(trips['total_amount'], ax=axes[1][1], color = '#007bf7')\n",
    "sns.distplot(trips['tip_amount'], ax=axes[1][2], color = '#0095f9')"
   ]
  },
  {
   "cell_type": "markdown",
   "metadata": {},
   "source": [
    "###### Passenger count"
   ]
  },
  {
   "cell_type": "code",
   "execution_count": 30,
   "metadata": {},
   "outputs": [
    {
     "data": {
      "image/png": "[encoded data removed]",
      "text/plain": [
       "<Figure size 576x432 with 1 Axes>"
      ]
     },
     "metadata": {
      "needs_background": "light"
     },
     "output_type": "display_data"
    }
   ],
   "source": [
    "df = trips.groupby('passenger_count').size().to_frame('trips').reset_index()\n",
    "\n",
    "plt.figure(figsize=(8, 6))\n",
    "sns.barplot(x='passenger_count', y=\"trips\", data=df, color = '#623dc8')\n",
    "plt.show()"
   ]
  },
  {
   "cell_type": "markdown",
   "metadata": {},
   "source": [
    "By law, the maximum number of passengers is 6 (maximum): https://www1.nyc.gov/site/tlc/passengers/passenger-frequently-asked-questions.page#:~:text=The%20maximum%20amount%20of%20passengers,of%20an%20adult%20passenger%20seated\n",
    "\n",
    "We can see that there are some trips with 0 passenger or trips with 7-9 passengers, but they are an outlier, so we eliminate them."
   ]
  },
  {
   "cell_type": "code",
   "execution_count": 8,
   "metadata": {},
   "outputs": [],
   "source": [
    "trips = trips[(trips['passenger_count']<=6) & (trips['passenger_count']>0)]"
   ]
  },
  {
   "cell_type": "markdown",
   "metadata": {},
   "source": [
    "##### Vendor id & Store_and_fwd_flag"
   ]
  },
  {
   "cell_type": "code",
   "execution_count": 33,
   "metadata": {},
   "outputs": [
    {
     "data": {
      "image/png": "[encoded data removed]",
      "text/plain": [
       "<Figure size 1296x504 with 2 Axes>"
      ]
     },
     "metadata": {
      "needs_background": "light"
     },
     "output_type": "display_data"
    }
   ],
   "source": [
    "f, axes = plt.subplots(1, 2)\n",
    "\n",
    "f.set_figheight(7)\n",
    "f.set_figwidth(18)\n",
    "\n",
    "df = trips.groupby('VendorID').size().to_frame('trips').reset_index()\n",
    "df2 = trips.groupby('store_and_fwd_flag').size().to_frame('trips').reset_index()\n",
    "\n",
    "sns.barplot(x='VendorID', y=\"trips\", data=df, ax=axes[0], color = '#32dc9e')\n",
    "sns.barplot(x='store_and_fwd_flag', y = 'trips', data=df2, ax=axes[1], color = '#00a4f1', dodge=False)\n",
    "\n",
    "widthbars = [0.5, 0.5] \n",
    "\n",
    "# change the width bar\n",
    "for ax in enumerate(axes):\n",
    "    for bar, newwidth in zip(ax[1].patches, widthbars):\n",
    "        x = bar.get_x()\n",
    "        width = bar.get_width()\n",
    "        centre = x + width/2.\n",
    "        bar.set_x(centre - newwidth/2.)\n",
    "        bar.set_width(newwidth)\n"
   ]
  },
  {
   "cell_type": "markdown",
   "metadata": {},
   "source": [
    "The store_and_fwd_flag atribute, indicating whether the trip data was sent immediately to the vendor (“N”) or held in the memory of the taxi because there was no connection to the server (“Y”). On the left graphic, we can appreciate that Vendor 2 has significantly more trips in this data set than vendor 1 (logarithmic and axis)."
   ]
  },
  {
   "cell_type": "markdown",
   "metadata": {},
   "source": [
    "## Feature engineering"
   ]
  },
  {
   "cell_type": "code",
   "execution_count": 9,
   "metadata": {},
   "outputs": [],
   "source": [
    "# Create new atributes from date\n",
    "trips['pickup_year'] = trips['tpep_pickup_datetime'].dt.year\n",
    "trips['pickup_month'] = trips['tpep_pickup_datetime'].dt.month\n",
    "trips['pickup_weekday_num'] = trips['tpep_pickup_datetime'].dt.weekday\n",
    "trips['pickup_hour'] = trips['tpep_pickup_datetime'].dt.hour\n",
    "\n",
    "# create atributes from distance and time trip\n",
    "trips['duration'] = trips['tpep_dropoff_datetime'] - trips['tpep_pickup_datetime']\n",
    "trips['duration_hour'] = trips['duration'] / np.timedelta64(1, 'h')\n",
    "trips['duration_min'] = trips['duration'] / np.timedelta64(1, 'm')\n",
    "\n",
    "# speed in milles/h\n",
    "trips['trip_speed_mph'] = trips['trip_distance']/trips['duration_hour']\n",
    "\n",
    "# Percentage of tips\n",
    "trips['tip_percentage'] = 100*(trips['tip_amount']/trips['total_amount'])"
   ]
  },
  {
   "cell_type": "markdown",
   "metadata": {},
   "source": [
    "#### Analysis new atributes\n",
    "##### Duration"
   ]
  },
  {
   "cell_type": "code",
   "execution_count": 35,
   "metadata": {},
   "outputs": [
    {
     "data": {
      "image/png": "[encoded data removed]",
      "text/plain": [
       "<Figure size 1440x432 with 2 Axes>"
      ]
     },
     "metadata": {
      "needs_background": "light"
     },
     "output_type": "display_data"
    }
   ],
   "source": [
    "f, axes = plt.subplots(1, 2)\n",
    "\n",
    "f.set_figheight(6)\n",
    "f.set_figwidth(20)\n",
    "\n",
    "sns.distplot(trips['duration_min'], ax=axes[0], color = '#623dc8')\n",
    "sns.distplot(trips.loc[trips['duration_min']<100]['duration_min'], ax=axes[1], color = '#32dc9e')\n",
    "\n",
    "axes[0].title.set_text('Duration')\n",
    "axes[1].title.set_text('Duration after filtering')"
   ]
  },
  {
   "cell_type": "markdown",
   "metadata": {},
   "source": [
    "In the graph on the left we have the distribution of the raw duration, and in the graph on the right the representation of the distribution removing the trips with more than 100 min, since they are outiers. As we see in the table below, are mostly correspond to meter errors. We check for negative durations because tpep_dropoff_datetime < tpep_pickup_datetime and we need to remove them."
   ]
  },
  {
   "cell_type": "code",
   "execution_count": 65,
   "metadata": {},
   "outputs": [
    {
     "data": {
      "text/html": [
       "<style  type=\"text/css\" >\n",
       "    #T_9d9714b0_e754_11ec_9bba_a0afbd4ac5eerow0_col0 {\n",
       "            background-color:  white;\n",
       "        }    #T_9d9714b0_e754_11ec_9bba_a0afbd4ac5eerow0_col1 {\n",
       "            background-color:  white;\n",
       "        }    #T_9d9714b0_e754_11ec_9bba_a0afbd4ac5eerow0_col2 {\n",
       "            background-color:  white;\n",
       "        }    #T_9d9714b0_e754_11ec_9bba_a0afbd4ac5eerow0_col3 {\n",
       "            background-color:  white;\n",
       "        }    #T_9d9714b0_e754_11ec_9bba_a0afbd4ac5eerow0_col4 {\n",
       "            background-color:  white;\n",
       "        }    #T_9d9714b0_e754_11ec_9bba_a0afbd4ac5eerow0_col5 {\n",
       "            background-color:  white;\n",
       "        }    #T_9d9714b0_e754_11ec_9bba_a0afbd4ac5eerow0_col6 {\n",
       "            background-color:  white;\n",
       "        }    #T_9d9714b0_e754_11ec_9bba_a0afbd4ac5eerow0_col7 {\n",
       "            background-color:  white;\n",
       "        }    #T_9d9714b0_e754_11ec_9bba_a0afbd4ac5eerow0_col8 {\n",
       "            background-color:  white;\n",
       "        }    #T_9d9714b0_e754_11ec_9bba_a0afbd4ac5eerow0_col9 {\n",
       "            background-color:  white;\n",
       "        }    #T_9d9714b0_e754_11ec_9bba_a0afbd4ac5eerow0_col10 {\n",
       "            background-color:  white;\n",
       "        }    #T_9d9714b0_e754_11ec_9bba_a0afbd4ac5eerow0_col11 {\n",
       "            background-color:  white;\n",
       "        }    #T_9d9714b0_e754_11ec_9bba_a0afbd4ac5eerow0_col12 {\n",
       "            background-color:  white;\n",
       "        }    #T_9d9714b0_e754_11ec_9bba_a0afbd4ac5eerow0_col13 {\n",
       "            background-color:  white;\n",
       "        }    #T_9d9714b0_e754_11ec_9bba_a0afbd4ac5eerow0_col14 {\n",
       "            background-color:  white;\n",
       "        }    #T_9d9714b0_e754_11ec_9bba_a0afbd4ac5eerow0_col15 {\n",
       "            background-color:  white;\n",
       "        }    #T_9d9714b0_e754_11ec_9bba_a0afbd4ac5eerow0_col16 {\n",
       "            background-color:  white;\n",
       "        }    #T_9d9714b0_e754_11ec_9bba_a0afbd4ac5eerow0_col17 {\n",
       "            background-color:  white;\n",
       "        }    #T_9d9714b0_e754_11ec_9bba_a0afbd4ac5eerow0_col18 {\n",
       "            background-color:  white;\n",
       "        }    #T_9d9714b0_e754_11ec_9bba_a0afbd4ac5eerow0_col19 {\n",
       "            background-color:  white;\n",
       "        }    #T_9d9714b0_e754_11ec_9bba_a0afbd4ac5eerow0_col20 {\n",
       "            background-color:  white;\n",
       "        }    #T_9d9714b0_e754_11ec_9bba_a0afbd4ac5eerow0_col21 {\n",
       "            background-color:  white;\n",
       "        }    #T_9d9714b0_e754_11ec_9bba_a0afbd4ac5eerow0_col22 {\n",
       "            background-color:  white;\n",
       "        }    #T_9d9714b0_e754_11ec_9bba_a0afbd4ac5eerow0_col23 {\n",
       "            background-color:  white;\n",
       "        }    #T_9d9714b0_e754_11ec_9bba_a0afbd4ac5eerow0_col24 {\n",
       "            background-color:  white;\n",
       "        }    #T_9d9714b0_e754_11ec_9bba_a0afbd4ac5eerow0_col25 {\n",
       "            background-color:  white;\n",
       "        }    #T_9d9714b0_e754_11ec_9bba_a0afbd4ac5eerow0_col26 {\n",
       "            background-color:  white;\n",
       "        }    #T_9d9714b0_e754_11ec_9bba_a0afbd4ac5eerow0_col27 {\n",
       "            background-color:  white;\n",
       "        }    #T_9d9714b0_e754_11ec_9bba_a0afbd4ac5eerow1_col0 {\n",
       "            background-color:  white;\n",
       "        }    #T_9d9714b0_e754_11ec_9bba_a0afbd4ac5eerow1_col1 {\n",
       "            background-color:  white;\n",
       "        }    #T_9d9714b0_e754_11ec_9bba_a0afbd4ac5eerow1_col2 {\n",
       "            background-color:  white;\n",
       "        }    #T_9d9714b0_e754_11ec_9bba_a0afbd4ac5eerow1_col3 {\n",
       "            background-color:  white;\n",
       "        }    #T_9d9714b0_e754_11ec_9bba_a0afbd4ac5eerow1_col4 {\n",
       "            background-color:  white;\n",
       "        }    #T_9d9714b0_e754_11ec_9bba_a0afbd4ac5eerow1_col5 {\n",
       "            background-color:  white;\n",
       "        }    #T_9d9714b0_e754_11ec_9bba_a0afbd4ac5eerow1_col6 {\n",
       "            background-color:  white;\n",
       "        }    #T_9d9714b0_e754_11ec_9bba_a0afbd4ac5eerow1_col7 {\n",
       "            background-color:  white;\n",
       "        }    #T_9d9714b0_e754_11ec_9bba_a0afbd4ac5eerow1_col8 {\n",
       "            background-color:  white;\n",
       "        }    #T_9d9714b0_e754_11ec_9bba_a0afbd4ac5eerow1_col9 {\n",
       "            background-color:  white;\n",
       "        }    #T_9d9714b0_e754_11ec_9bba_a0afbd4ac5eerow1_col10 {\n",
       "            background-color:  white;\n",
       "        }    #T_9d9714b0_e754_11ec_9bba_a0afbd4ac5eerow1_col11 {\n",
       "            background-color:  white;\n",
       "        }    #T_9d9714b0_e754_11ec_9bba_a0afbd4ac5eerow1_col12 {\n",
       "            background-color:  white;\n",
       "        }    #T_9d9714b0_e754_11ec_9bba_a0afbd4ac5eerow1_col13 {\n",
       "            background-color:  white;\n",
       "        }    #T_9d9714b0_e754_11ec_9bba_a0afbd4ac5eerow1_col14 {\n",
       "            background-color:  white;\n",
       "        }    #T_9d9714b0_e754_11ec_9bba_a0afbd4ac5eerow1_col15 {\n",
       "            background-color:  white;\n",
       "        }    #T_9d9714b0_e754_11ec_9bba_a0afbd4ac5eerow1_col16 {\n",
       "            background-color:  white;\n",
       "        }    #T_9d9714b0_e754_11ec_9bba_a0afbd4ac5eerow1_col17 {\n",
       "            background-color:  white;\n",
       "        }    #T_9d9714b0_e754_11ec_9bba_a0afbd4ac5eerow1_col18 {\n",
       "            background-color:  white;\n",
       "        }    #T_9d9714b0_e754_11ec_9bba_a0afbd4ac5eerow1_col19 {\n",
       "            background-color:  white;\n",
       "        }    #T_9d9714b0_e754_11ec_9bba_a0afbd4ac5eerow1_col20 {\n",
       "            background-color:  white;\n",
       "        }    #T_9d9714b0_e754_11ec_9bba_a0afbd4ac5eerow1_col21 {\n",
       "            background-color:  white;\n",
       "        }    #T_9d9714b0_e754_11ec_9bba_a0afbd4ac5eerow1_col22 {\n",
       "            background-color:  white;\n",
       "        }    #T_9d9714b0_e754_11ec_9bba_a0afbd4ac5eerow1_col23 {\n",
       "            background-color:  white;\n",
       "        }    #T_9d9714b0_e754_11ec_9bba_a0afbd4ac5eerow1_col24 {\n",
       "            background-color:  white;\n",
       "        }    #T_9d9714b0_e754_11ec_9bba_a0afbd4ac5eerow1_col25 {\n",
       "            background-color:  white;\n",
       "        }    #T_9d9714b0_e754_11ec_9bba_a0afbd4ac5eerow1_col26 {\n",
       "            background-color:  white;\n",
       "        }    #T_9d9714b0_e754_11ec_9bba_a0afbd4ac5eerow1_col27 {\n",
       "            background-color:  white;\n",
       "        }    #T_9d9714b0_e754_11ec_9bba_a0afbd4ac5eerow2_col0 {\n",
       "            background-color:  white;\n",
       "        }    #T_9d9714b0_e754_11ec_9bba_a0afbd4ac5eerow2_col1 {\n",
       "            background-color:  white;\n",
       "        }    #T_9d9714b0_e754_11ec_9bba_a0afbd4ac5eerow2_col2 {\n",
       "            background-color:  white;\n",
       "        }    #T_9d9714b0_e754_11ec_9bba_a0afbd4ac5eerow2_col3 {\n",
       "            background-color:  white;\n",
       "        }    #T_9d9714b0_e754_11ec_9bba_a0afbd4ac5eerow2_col4 {\n",
       "            background-color:  white;\n",
       "        }    #T_9d9714b0_e754_11ec_9bba_a0afbd4ac5eerow2_col5 {\n",
       "            background-color:  white;\n",
       "        }    #T_9d9714b0_e754_11ec_9bba_a0afbd4ac5eerow2_col6 {\n",
       "            background-color:  white;\n",
       "        }    #T_9d9714b0_e754_11ec_9bba_a0afbd4ac5eerow2_col7 {\n",
       "            background-color:  white;\n",
       "        }    #T_9d9714b0_e754_11ec_9bba_a0afbd4ac5eerow2_col8 {\n",
       "            background-color:  white;\n",
       "        }    #T_9d9714b0_e754_11ec_9bba_a0afbd4ac5eerow2_col9 {\n",
       "            background-color:  white;\n",
       "        }    #T_9d9714b0_e754_11ec_9bba_a0afbd4ac5eerow2_col10 {\n",
       "            background-color:  white;\n",
       "        }    #T_9d9714b0_e754_11ec_9bba_a0afbd4ac5eerow2_col11 {\n",
       "            background-color:  white;\n",
       "        }    #T_9d9714b0_e754_11ec_9bba_a0afbd4ac5eerow2_col12 {\n",
       "            background-color:  white;\n",
       "        }    #T_9d9714b0_e754_11ec_9bba_a0afbd4ac5eerow2_col13 {\n",
       "            background-color:  white;\n",
       "        }    #T_9d9714b0_e754_11ec_9bba_a0afbd4ac5eerow2_col14 {\n",
       "            background-color:  white;\n",
       "        }    #T_9d9714b0_e754_11ec_9bba_a0afbd4ac5eerow2_col15 {\n",
       "            background-color:  white;\n",
       "        }    #T_9d9714b0_e754_11ec_9bba_a0afbd4ac5eerow2_col16 {\n",
       "            background-color:  white;\n",
       "        }    #T_9d9714b0_e754_11ec_9bba_a0afbd4ac5eerow2_col17 {\n",
       "            background-color:  white;\n",
       "        }    #T_9d9714b0_e754_11ec_9bba_a0afbd4ac5eerow2_col18 {\n",
       "            background-color:  white;\n",
       "        }    #T_9d9714b0_e754_11ec_9bba_a0afbd4ac5eerow2_col19 {\n",
       "            background-color:  white;\n",
       "        }    #T_9d9714b0_e754_11ec_9bba_a0afbd4ac5eerow2_col20 {\n",
       "            background-color:  white;\n",
       "        }    #T_9d9714b0_e754_11ec_9bba_a0afbd4ac5eerow2_col21 {\n",
       "            background-color:  white;\n",
       "        }    #T_9d9714b0_e754_11ec_9bba_a0afbd4ac5eerow2_col22 {\n",
       "            background-color:  white;\n",
       "        }    #T_9d9714b0_e754_11ec_9bba_a0afbd4ac5eerow2_col23 {\n",
       "            background-color:  white;\n",
       "        }    #T_9d9714b0_e754_11ec_9bba_a0afbd4ac5eerow2_col24 {\n",
       "            background-color:  white;\n",
       "        }    #T_9d9714b0_e754_11ec_9bba_a0afbd4ac5eerow2_col25 {\n",
       "            background-color:  white;\n",
       "        }    #T_9d9714b0_e754_11ec_9bba_a0afbd4ac5eerow2_col26 {\n",
       "            background-color:  white;\n",
       "        }    #T_9d9714b0_e754_11ec_9bba_a0afbd4ac5eerow2_col27 {\n",
       "            background-color:  white;\n",
       "        }    #T_9d9714b0_e754_11ec_9bba_a0afbd4ac5eerow3_col0 {\n",
       "            background-color:  white;\n",
       "        }    #T_9d9714b0_e754_11ec_9bba_a0afbd4ac5eerow3_col1 {\n",
       "            background-color:  white;\n",
       "        }    #T_9d9714b0_e754_11ec_9bba_a0afbd4ac5eerow3_col2 {\n",
       "            background-color:  white;\n",
       "        }    #T_9d9714b0_e754_11ec_9bba_a0afbd4ac5eerow3_col3 {\n",
       "            background-color:  white;\n",
       "        }    #T_9d9714b0_e754_11ec_9bba_a0afbd4ac5eerow3_col4 {\n",
       "            background-color:  white;\n",
       "        }    #T_9d9714b0_e754_11ec_9bba_a0afbd4ac5eerow3_col5 {\n",
       "            background-color:  white;\n",
       "        }    #T_9d9714b0_e754_11ec_9bba_a0afbd4ac5eerow3_col6 {\n",
       "            background-color:  white;\n",
       "        }    #T_9d9714b0_e754_11ec_9bba_a0afbd4ac5eerow3_col7 {\n",
       "            background-color:  white;\n",
       "        }    #T_9d9714b0_e754_11ec_9bba_a0afbd4ac5eerow3_col8 {\n",
       "            background-color:  white;\n",
       "        }    #T_9d9714b0_e754_11ec_9bba_a0afbd4ac5eerow3_col9 {\n",
       "            background-color:  white;\n",
       "        }    #T_9d9714b0_e754_11ec_9bba_a0afbd4ac5eerow3_col10 {\n",
       "            background-color:  white;\n",
       "        }    #T_9d9714b0_e754_11ec_9bba_a0afbd4ac5eerow3_col11 {\n",
       "            background-color:  white;\n",
       "        }    #T_9d9714b0_e754_11ec_9bba_a0afbd4ac5eerow3_col12 {\n",
       "            background-color:  white;\n",
       "        }    #T_9d9714b0_e754_11ec_9bba_a0afbd4ac5eerow3_col13 {\n",
       "            background-color:  white;\n",
       "        }    #T_9d9714b0_e754_11ec_9bba_a0afbd4ac5eerow3_col14 {\n",
       "            background-color:  white;\n",
       "        }    #T_9d9714b0_e754_11ec_9bba_a0afbd4ac5eerow3_col15 {\n",
       "            background-color:  white;\n",
       "        }    #T_9d9714b0_e754_11ec_9bba_a0afbd4ac5eerow3_col16 {\n",
       "            background-color:  white;\n",
       "        }    #T_9d9714b0_e754_11ec_9bba_a0afbd4ac5eerow3_col17 {\n",
       "            background-color:  white;\n",
       "        }    #T_9d9714b0_e754_11ec_9bba_a0afbd4ac5eerow3_col18 {\n",
       "            background-color:  white;\n",
       "        }    #T_9d9714b0_e754_11ec_9bba_a0afbd4ac5eerow3_col19 {\n",
       "            background-color:  white;\n",
       "        }    #T_9d9714b0_e754_11ec_9bba_a0afbd4ac5eerow3_col20 {\n",
       "            background-color:  white;\n",
       "        }    #T_9d9714b0_e754_11ec_9bba_a0afbd4ac5eerow3_col21 {\n",
       "            background-color:  white;\n",
       "        }    #T_9d9714b0_e754_11ec_9bba_a0afbd4ac5eerow3_col22 {\n",
       "            background-color:  white;\n",
       "        }    #T_9d9714b0_e754_11ec_9bba_a0afbd4ac5eerow3_col23 {\n",
       "            background-color:  white;\n",
       "        }    #T_9d9714b0_e754_11ec_9bba_a0afbd4ac5eerow3_col24 {\n",
       "            background-color:  white;\n",
       "        }    #T_9d9714b0_e754_11ec_9bba_a0afbd4ac5eerow3_col25 {\n",
       "            background-color:  white;\n",
       "        }    #T_9d9714b0_e754_11ec_9bba_a0afbd4ac5eerow3_col26 {\n",
       "            background-color:  white;\n",
       "        }    #T_9d9714b0_e754_11ec_9bba_a0afbd4ac5eerow3_col27 {\n",
       "            background-color:  white;\n",
       "        }    #T_9d9714b0_e754_11ec_9bba_a0afbd4ac5eerow4_col0 {\n",
       "            background-color:  white;\n",
       "        }    #T_9d9714b0_e754_11ec_9bba_a0afbd4ac5eerow4_col1 {\n",
       "            background-color:  white;\n",
       "        }    #T_9d9714b0_e754_11ec_9bba_a0afbd4ac5eerow4_col2 {\n",
       "            background-color:  white;\n",
       "        }    #T_9d9714b0_e754_11ec_9bba_a0afbd4ac5eerow4_col3 {\n",
       "            background-color:  white;\n",
       "        }    #T_9d9714b0_e754_11ec_9bba_a0afbd4ac5eerow4_col4 {\n",
       "            background-color:  white;\n",
       "        }    #T_9d9714b0_e754_11ec_9bba_a0afbd4ac5eerow4_col5 {\n",
       "            background-color:  white;\n",
       "        }    #T_9d9714b0_e754_11ec_9bba_a0afbd4ac5eerow4_col6 {\n",
       "            background-color:  white;\n",
       "        }    #T_9d9714b0_e754_11ec_9bba_a0afbd4ac5eerow4_col7 {\n",
       "            background-color:  white;\n",
       "        }    #T_9d9714b0_e754_11ec_9bba_a0afbd4ac5eerow4_col8 {\n",
       "            background-color:  white;\n",
       "        }    #T_9d9714b0_e754_11ec_9bba_a0afbd4ac5eerow4_col9 {\n",
       "            background-color:  white;\n",
       "        }    #T_9d9714b0_e754_11ec_9bba_a0afbd4ac5eerow4_col10 {\n",
       "            background-color:  white;\n",
       "        }    #T_9d9714b0_e754_11ec_9bba_a0afbd4ac5eerow4_col11 {\n",
       "            background-color:  white;\n",
       "        }    #T_9d9714b0_e754_11ec_9bba_a0afbd4ac5eerow4_col12 {\n",
       "            background-color:  white;\n",
       "        }    #T_9d9714b0_e754_11ec_9bba_a0afbd4ac5eerow4_col13 {\n",
       "            background-color:  white;\n",
       "        }    #T_9d9714b0_e754_11ec_9bba_a0afbd4ac5eerow4_col14 {\n",
       "            background-color:  white;\n",
       "        }    #T_9d9714b0_e754_11ec_9bba_a0afbd4ac5eerow4_col15 {\n",
       "            background-color:  white;\n",
       "        }    #T_9d9714b0_e754_11ec_9bba_a0afbd4ac5eerow4_col16 {\n",
       "            background-color:  white;\n",
       "        }    #T_9d9714b0_e754_11ec_9bba_a0afbd4ac5eerow4_col17 {\n",
       "            background-color:  white;\n",
       "        }    #T_9d9714b0_e754_11ec_9bba_a0afbd4ac5eerow4_col18 {\n",
       "            background-color:  white;\n",
       "        }    #T_9d9714b0_e754_11ec_9bba_a0afbd4ac5eerow4_col19 {\n",
       "            background-color:  white;\n",
       "        }    #T_9d9714b0_e754_11ec_9bba_a0afbd4ac5eerow4_col20 {\n",
       "            background-color:  white;\n",
       "        }    #T_9d9714b0_e754_11ec_9bba_a0afbd4ac5eerow4_col21 {\n",
       "            background-color:  white;\n",
       "        }    #T_9d9714b0_e754_11ec_9bba_a0afbd4ac5eerow4_col22 {\n",
       "            background-color:  white;\n",
       "        }    #T_9d9714b0_e754_11ec_9bba_a0afbd4ac5eerow4_col23 {\n",
       "            background-color:  white;\n",
       "        }    #T_9d9714b0_e754_11ec_9bba_a0afbd4ac5eerow4_col24 {\n",
       "            background-color:  white;\n",
       "        }    #T_9d9714b0_e754_11ec_9bba_a0afbd4ac5eerow4_col25 {\n",
       "            background-color:  white;\n",
       "        }    #T_9d9714b0_e754_11ec_9bba_a0afbd4ac5eerow4_col26 {\n",
       "            background-color:  white;\n",
       "        }    #T_9d9714b0_e754_11ec_9bba_a0afbd4ac5eerow4_col27 {\n",
       "            background-color:  white;\n",
       "        }</style><table id=\"T_9d9714b0_e754_11ec_9bba_a0afbd4ac5ee\" ><thead>    <tr>        <th class=\"blank level0\" ></th>        <th class=\"col_heading level0 col0\" >VendorID</th>        <th class=\"col_heading level0 col1\" >tpep_pickup_datetime</th>        <th class=\"col_heading level0 col2\" >tpep_dropoff_datetime</th>        <th class=\"col_heading level0 col3\" >passenger_count</th>        <th class=\"col_heading level0 col4\" >trip_distance</th>        <th class=\"col_heading level0 col5\" >RatecodeID</th>        <th class=\"col_heading level0 col6\" >store_and_fwd_flag</th>        <th class=\"col_heading level0 col7\" >PULocationID</th>        <th class=\"col_heading level0 col8\" >DOLocationID</th>        <th class=\"col_heading level0 col9\" >payment_type</th>        <th class=\"col_heading level0 col10\" >fare_amount</th>        <th class=\"col_heading level0 col11\" >extra</th>        <th class=\"col_heading level0 col12\" >mta_tax</th>        <th class=\"col_heading level0 col13\" >tip_amount</th>        <th class=\"col_heading level0 col14\" >tolls_amount</th>        <th class=\"col_heading level0 col15\" >improvement_surcharge</th>        <th class=\"col_heading level0 col16\" >total_amount</th>        <th class=\"col_heading level0 col17\" >tpep_pickup_date</th>        <th class=\"col_heading level0 col18\" >tpep_dropoff_date</th>        <th class=\"col_heading level0 col19\" >pickup_year</th>        <th class=\"col_heading level0 col20\" >pickup_month</th>        <th class=\"col_heading level0 col21\" >pickup_weekday_num</th>        <th class=\"col_heading level0 col22\" >pickup_hour</th>        <th class=\"col_heading level0 col23\" >duration</th>        <th class=\"col_heading level0 col24\" >duration_hour</th>        <th class=\"col_heading level0 col25\" >duration_min</th>        <th class=\"col_heading level0 col26\" >trip_speed_mph</th>        <th class=\"col_heading level0 col27\" >tip_percentage</th>    </tr></thead><tbody>\n",
       "                <tr>\n",
       "                        <th id=\"T_9d9714b0_e754_11ec_9bba_a0afbd4ac5eelevel0_row0\" class=\"row_heading level0 row0\" >624</th>\n",
       "                        <td id=\"T_9d9714b0_e754_11ec_9bba_a0afbd4ac5eerow0_col0\" class=\"data row0 col0\" >2</td>\n",
       "                        <td id=\"T_9d9714b0_e754_11ec_9bba_a0afbd4ac5eerow0_col1\" class=\"data row0 col1\" >2017-03-01 00:57:07</td>\n",
       "                        <td id=\"T_9d9714b0_e754_11ec_9bba_a0afbd4ac5eerow0_col2\" class=\"data row0 col2\" >2017-03-02 00:46:21</td>\n",
       "                        <td id=\"T_9d9714b0_e754_11ec_9bba_a0afbd4ac5eerow0_col3\" class=\"data row0 col3\" >1</td>\n",
       "                        <td id=\"T_9d9714b0_e754_11ec_9bba_a0afbd4ac5eerow0_col4\" class=\"data row0 col4\" >1.14</td>\n",
       "                        <td id=\"T_9d9714b0_e754_11ec_9bba_a0afbd4ac5eerow0_col5\" class=\"data row0 col5\" >1</td>\n",
       "                        <td id=\"T_9d9714b0_e754_11ec_9bba_a0afbd4ac5eerow0_col6\" class=\"data row0 col6\" >N</td>\n",
       "                        <td id=\"T_9d9714b0_e754_11ec_9bba_a0afbd4ac5eerow0_col7\" class=\"data row0 col7\" >114</td>\n",
       "                        <td id=\"T_9d9714b0_e754_11ec_9bba_a0afbd4ac5eerow0_col8\" class=\"data row0 col8\" >211</td>\n",
       "                        <td id=\"T_9d9714b0_e754_11ec_9bba_a0afbd4ac5eerow0_col9\" class=\"data row0 col9\" >1</td>\n",
       "                        <td id=\"T_9d9714b0_e754_11ec_9bba_a0afbd4ac5eerow0_col10\" class=\"data row0 col10\" >6.5</td>\n",
       "                        <td id=\"T_9d9714b0_e754_11ec_9bba_a0afbd4ac5eerow0_col11\" class=\"data row0 col11\" >0.5</td>\n",
       "                        <td id=\"T_9d9714b0_e754_11ec_9bba_a0afbd4ac5eerow0_col12\" class=\"data row0 col12\" >0.5</td>\n",
       "                        <td id=\"T_9d9714b0_e754_11ec_9bba_a0afbd4ac5eerow0_col13\" class=\"data row0 col13\" >0.78</td>\n",
       "                        <td id=\"T_9d9714b0_e754_11ec_9bba_a0afbd4ac5eerow0_col14\" class=\"data row0 col14\" >0</td>\n",
       "                        <td id=\"T_9d9714b0_e754_11ec_9bba_a0afbd4ac5eerow0_col15\" class=\"data row0 col15\" >0.3</td>\n",
       "                        <td id=\"T_9d9714b0_e754_11ec_9bba_a0afbd4ac5eerow0_col16\" class=\"data row0 col16\" >8.58</td>\n",
       "                        <td id=\"T_9d9714b0_e754_11ec_9bba_a0afbd4ac5eerow0_col17\" class=\"data row0 col17\" >2017-03-01</td>\n",
       "                        <td id=\"T_9d9714b0_e754_11ec_9bba_a0afbd4ac5eerow0_col18\" class=\"data row0 col18\" >2017-03-02</td>\n",
       "                        <td id=\"T_9d9714b0_e754_11ec_9bba_a0afbd4ac5eerow0_col19\" class=\"data row0 col19\" >2017</td>\n",
       "                        <td id=\"T_9d9714b0_e754_11ec_9bba_a0afbd4ac5eerow0_col20\" class=\"data row0 col20\" >3</td>\n",
       "                        <td id=\"T_9d9714b0_e754_11ec_9bba_a0afbd4ac5eerow0_col21\" class=\"data row0 col21\" >2</td>\n",
       "                        <td id=\"T_9d9714b0_e754_11ec_9bba_a0afbd4ac5eerow0_col22\" class=\"data row0 col22\" >0</td>\n",
       "                        <td id=\"T_9d9714b0_e754_11ec_9bba_a0afbd4ac5eerow0_col23\" class=\"data row0 col23\" >0 days 23:49:14</td>\n",
       "                        <td id=\"T_9d9714b0_e754_11ec_9bba_a0afbd4ac5eerow0_col24\" class=\"data row0 col24\" >23.8206</td>\n",
       "                        <td id=\"T_9d9714b0_e754_11ec_9bba_a0afbd4ac5eerow0_col25\" class=\"data row0 col25\" >1429.23</td>\n",
       "                        <td id=\"T_9d9714b0_e754_11ec_9bba_a0afbd4ac5eerow0_col26\" class=\"data row0 col26\" >0.0478578</td>\n",
       "                        <td id=\"T_9d9714b0_e754_11ec_9bba_a0afbd4ac5eerow0_col27\" class=\"data row0 col27\" >9.09091</td>\n",
       "            </tr>\n",
       "            <tr>\n",
       "                        <th id=\"T_9d9714b0_e754_11ec_9bba_a0afbd4ac5eelevel0_row1\" class=\"row_heading level0 row1\" >4807</th>\n",
       "                        <td id=\"T_9d9714b0_e754_11ec_9bba_a0afbd4ac5eerow1_col0\" class=\"data row1 col0\" >2</td>\n",
       "                        <td id=\"T_9d9714b0_e754_11ec_9bba_a0afbd4ac5eerow1_col1\" class=\"data row1 col1\" >2017-03-01 00:05:22</td>\n",
       "                        <td id=\"T_9d9714b0_e754_11ec_9bba_a0afbd4ac5eerow1_col2\" class=\"data row1 col2\" >2017-03-01 23:49:48</td>\n",
       "                        <td id=\"T_9d9714b0_e754_11ec_9bba_a0afbd4ac5eerow1_col3\" class=\"data row1 col3\" >5</td>\n",
       "                        <td id=\"T_9d9714b0_e754_11ec_9bba_a0afbd4ac5eerow1_col4\" class=\"data row1 col4\" >0.78</td>\n",
       "                        <td id=\"T_9d9714b0_e754_11ec_9bba_a0afbd4ac5eerow1_col5\" class=\"data row1 col5\" >1</td>\n",
       "                        <td id=\"T_9d9714b0_e754_11ec_9bba_a0afbd4ac5eerow1_col6\" class=\"data row1 col6\" >N</td>\n",
       "                        <td id=\"T_9d9714b0_e754_11ec_9bba_a0afbd4ac5eerow1_col7\" class=\"data row1 col7\" >164</td>\n",
       "                        <td id=\"T_9d9714b0_e754_11ec_9bba_a0afbd4ac5eerow1_col8\" class=\"data row1 col8\" >170</td>\n",
       "                        <td id=\"T_9d9714b0_e754_11ec_9bba_a0afbd4ac5eerow1_col9\" class=\"data row1 col9\" >1</td>\n",
       "                        <td id=\"T_9d9714b0_e754_11ec_9bba_a0afbd4ac5eerow1_col10\" class=\"data row1 col10\" >5</td>\n",
       "                        <td id=\"T_9d9714b0_e754_11ec_9bba_a0afbd4ac5eerow1_col11\" class=\"data row1 col11\" >0.5</td>\n",
       "                        <td id=\"T_9d9714b0_e754_11ec_9bba_a0afbd4ac5eerow1_col12\" class=\"data row1 col12\" >0.5</td>\n",
       "                        <td id=\"T_9d9714b0_e754_11ec_9bba_a0afbd4ac5eerow1_col13\" class=\"data row1 col13\" >0</td>\n",
       "                        <td id=\"T_9d9714b0_e754_11ec_9bba_a0afbd4ac5eerow1_col14\" class=\"data row1 col14\" >0</td>\n",
       "                        <td id=\"T_9d9714b0_e754_11ec_9bba_a0afbd4ac5eerow1_col15\" class=\"data row1 col15\" >0.3</td>\n",
       "                        <td id=\"T_9d9714b0_e754_11ec_9bba_a0afbd4ac5eerow1_col16\" class=\"data row1 col16\" >6.3</td>\n",
       "                        <td id=\"T_9d9714b0_e754_11ec_9bba_a0afbd4ac5eerow1_col17\" class=\"data row1 col17\" >2017-03-01</td>\n",
       "                        <td id=\"T_9d9714b0_e754_11ec_9bba_a0afbd4ac5eerow1_col18\" class=\"data row1 col18\" >2017-03-01</td>\n",
       "                        <td id=\"T_9d9714b0_e754_11ec_9bba_a0afbd4ac5eerow1_col19\" class=\"data row1 col19\" >2017</td>\n",
       "                        <td id=\"T_9d9714b0_e754_11ec_9bba_a0afbd4ac5eerow1_col20\" class=\"data row1 col20\" >3</td>\n",
       "                        <td id=\"T_9d9714b0_e754_11ec_9bba_a0afbd4ac5eerow1_col21\" class=\"data row1 col21\" >2</td>\n",
       "                        <td id=\"T_9d9714b0_e754_11ec_9bba_a0afbd4ac5eerow1_col22\" class=\"data row1 col22\" >0</td>\n",
       "                        <td id=\"T_9d9714b0_e754_11ec_9bba_a0afbd4ac5eerow1_col23\" class=\"data row1 col23\" >0 days 23:44:26</td>\n",
       "                        <td id=\"T_9d9714b0_e754_11ec_9bba_a0afbd4ac5eerow1_col24\" class=\"data row1 col24\" >23.7406</td>\n",
       "                        <td id=\"T_9d9714b0_e754_11ec_9bba_a0afbd4ac5eerow1_col25\" class=\"data row1 col25\" >1424.43</td>\n",
       "                        <td id=\"T_9d9714b0_e754_11ec_9bba_a0afbd4ac5eerow1_col26\" class=\"data row1 col26\" >0.0328552</td>\n",
       "                        <td id=\"T_9d9714b0_e754_11ec_9bba_a0afbd4ac5eerow1_col27\" class=\"data row1 col27\" >0</td>\n",
       "            </tr>\n",
       "            <tr>\n",
       "                        <th id=\"T_9d9714b0_e754_11ec_9bba_a0afbd4ac5eelevel0_row2\" class=\"row_heading level0 row2\" >4896</th>\n",
       "                        <td id=\"T_9d9714b0_e754_11ec_9bba_a0afbd4ac5eerow2_col0\" class=\"data row2 col0\" >2</td>\n",
       "                        <td id=\"T_9d9714b0_e754_11ec_9bba_a0afbd4ac5eerow2_col1\" class=\"data row2 col1\" >2017-03-01 00:45:07</td>\n",
       "                        <td id=\"T_9d9714b0_e754_11ec_9bba_a0afbd4ac5eerow2_col2\" class=\"data row2 col2\" >2017-03-02 00:25:40</td>\n",
       "                        <td id=\"T_9d9714b0_e754_11ec_9bba_a0afbd4ac5eerow2_col3\" class=\"data row2 col3\" >1</td>\n",
       "                        <td id=\"T_9d9714b0_e754_11ec_9bba_a0afbd4ac5eerow2_col4\" class=\"data row2 col4\" >8.38</td>\n",
       "                        <td id=\"T_9d9714b0_e754_11ec_9bba_a0afbd4ac5eerow2_col5\" class=\"data row2 col5\" >1</td>\n",
       "                        <td id=\"T_9d9714b0_e754_11ec_9bba_a0afbd4ac5eerow2_col6\" class=\"data row2 col6\" >N</td>\n",
       "                        <td id=\"T_9d9714b0_e754_11ec_9bba_a0afbd4ac5eerow2_col7\" class=\"data row2 col7\" >161</td>\n",
       "                        <td id=\"T_9d9714b0_e754_11ec_9bba_a0afbd4ac5eerow2_col8\" class=\"data row2 col8\" >228</td>\n",
       "                        <td id=\"T_9d9714b0_e754_11ec_9bba_a0afbd4ac5eerow2_col9\" class=\"data row2 col9\" >1</td>\n",
       "                        <td id=\"T_9d9714b0_e754_11ec_9bba_a0afbd4ac5eerow2_col10\" class=\"data row2 col10\" >28</td>\n",
       "                        <td id=\"T_9d9714b0_e754_11ec_9bba_a0afbd4ac5eerow2_col11\" class=\"data row2 col11\" >0.5</td>\n",
       "                        <td id=\"T_9d9714b0_e754_11ec_9bba_a0afbd4ac5eerow2_col12\" class=\"data row2 col12\" >0.5</td>\n",
       "                        <td id=\"T_9d9714b0_e754_11ec_9bba_a0afbd4ac5eerow2_col13\" class=\"data row2 col13\" >5.86</td>\n",
       "                        <td id=\"T_9d9714b0_e754_11ec_9bba_a0afbd4ac5eerow2_col14\" class=\"data row2 col14\" >0</td>\n",
       "                        <td id=\"T_9d9714b0_e754_11ec_9bba_a0afbd4ac5eerow2_col15\" class=\"data row2 col15\" >0.3</td>\n",
       "                        <td id=\"T_9d9714b0_e754_11ec_9bba_a0afbd4ac5eerow2_col16\" class=\"data row2 col16\" >35.16</td>\n",
       "                        <td id=\"T_9d9714b0_e754_11ec_9bba_a0afbd4ac5eerow2_col17\" class=\"data row2 col17\" >2017-03-01</td>\n",
       "                        <td id=\"T_9d9714b0_e754_11ec_9bba_a0afbd4ac5eerow2_col18\" class=\"data row2 col18\" >2017-03-02</td>\n",
       "                        <td id=\"T_9d9714b0_e754_11ec_9bba_a0afbd4ac5eerow2_col19\" class=\"data row2 col19\" >2017</td>\n",
       "                        <td id=\"T_9d9714b0_e754_11ec_9bba_a0afbd4ac5eerow2_col20\" class=\"data row2 col20\" >3</td>\n",
       "                        <td id=\"T_9d9714b0_e754_11ec_9bba_a0afbd4ac5eerow2_col21\" class=\"data row2 col21\" >2</td>\n",
       "                        <td id=\"T_9d9714b0_e754_11ec_9bba_a0afbd4ac5eerow2_col22\" class=\"data row2 col22\" >0</td>\n",
       "                        <td id=\"T_9d9714b0_e754_11ec_9bba_a0afbd4ac5eerow2_col23\" class=\"data row2 col23\" >0 days 23:40:33</td>\n",
       "                        <td id=\"T_9d9714b0_e754_11ec_9bba_a0afbd4ac5eerow2_col24\" class=\"data row2 col24\" >23.6758</td>\n",
       "                        <td id=\"T_9d9714b0_e754_11ec_9bba_a0afbd4ac5eerow2_col25\" class=\"data row2 col25\" >1420.55</td>\n",
       "                        <td id=\"T_9d9714b0_e754_11ec_9bba_a0afbd4ac5eerow2_col26\" class=\"data row2 col26\" >0.353947</td>\n",
       "                        <td id=\"T_9d9714b0_e754_11ec_9bba_a0afbd4ac5eerow2_col27\" class=\"data row2 col27\" >16.6667</td>\n",
       "            </tr>\n",
       "            <tr>\n",
       "                        <th id=\"T_9d9714b0_e754_11ec_9bba_a0afbd4ac5eelevel0_row3\" class=\"row_heading level0 row3\" >5638</th>\n",
       "                        <td id=\"T_9d9714b0_e754_11ec_9bba_a0afbd4ac5eerow3_col0\" class=\"data row3 col0\" >2</td>\n",
       "                        <td id=\"T_9d9714b0_e754_11ec_9bba_a0afbd4ac5eerow3_col1\" class=\"data row3 col1\" >2017-03-01 00:00:00</td>\n",
       "                        <td id=\"T_9d9714b0_e754_11ec_9bba_a0afbd4ac5eerow3_col2\" class=\"data row3 col2\" >2017-03-01 06:46:27</td>\n",
       "                        <td id=\"T_9d9714b0_e754_11ec_9bba_a0afbd4ac5eerow3_col3\" class=\"data row3 col3\" >1</td>\n",
       "                        <td id=\"T_9d9714b0_e754_11ec_9bba_a0afbd4ac5eerow3_col4\" class=\"data row3 col4\" >4.7</td>\n",
       "                        <td id=\"T_9d9714b0_e754_11ec_9bba_a0afbd4ac5eerow3_col5\" class=\"data row3 col5\" >1</td>\n",
       "                        <td id=\"T_9d9714b0_e754_11ec_9bba_a0afbd4ac5eerow3_col6\" class=\"data row3 col6\" >N</td>\n",
       "                        <td id=\"T_9d9714b0_e754_11ec_9bba_a0afbd4ac5eerow3_col7\" class=\"data row3 col7\" >132</td>\n",
       "                        <td id=\"T_9d9714b0_e754_11ec_9bba_a0afbd4ac5eerow3_col8\" class=\"data row3 col8\" >10</td>\n",
       "                        <td id=\"T_9d9714b0_e754_11ec_9bba_a0afbd4ac5eerow3_col9\" class=\"data row3 col9\" >1</td>\n",
       "                        <td id=\"T_9d9714b0_e754_11ec_9bba_a0afbd4ac5eerow3_col10\" class=\"data row3 col10\" >15.5</td>\n",
       "                        <td id=\"T_9d9714b0_e754_11ec_9bba_a0afbd4ac5eerow3_col11\" class=\"data row3 col11\" >0.3</td>\n",
       "                        <td id=\"T_9d9714b0_e754_11ec_9bba_a0afbd4ac5eerow3_col12\" class=\"data row3 col12\" >0.5</td>\n",
       "                        <td id=\"T_9d9714b0_e754_11ec_9bba_a0afbd4ac5eerow3_col13\" class=\"data row3 col13\" >0</td>\n",
       "                        <td id=\"T_9d9714b0_e754_11ec_9bba_a0afbd4ac5eerow3_col14\" class=\"data row3 col14\" >0</td>\n",
       "                        <td id=\"T_9d9714b0_e754_11ec_9bba_a0afbd4ac5eerow3_col15\" class=\"data row3 col15\" >0.3</td>\n",
       "                        <td id=\"T_9d9714b0_e754_11ec_9bba_a0afbd4ac5eerow3_col16\" class=\"data row3 col16\" >16.6</td>\n",
       "                        <td id=\"T_9d9714b0_e754_11ec_9bba_a0afbd4ac5eerow3_col17\" class=\"data row3 col17\" >2017-03-01</td>\n",
       "                        <td id=\"T_9d9714b0_e754_11ec_9bba_a0afbd4ac5eerow3_col18\" class=\"data row3 col18\" >2017-03-01</td>\n",
       "                        <td id=\"T_9d9714b0_e754_11ec_9bba_a0afbd4ac5eerow3_col19\" class=\"data row3 col19\" >2017</td>\n",
       "                        <td id=\"T_9d9714b0_e754_11ec_9bba_a0afbd4ac5eerow3_col20\" class=\"data row3 col20\" >3</td>\n",
       "                        <td id=\"T_9d9714b0_e754_11ec_9bba_a0afbd4ac5eerow3_col21\" class=\"data row3 col21\" >2</td>\n",
       "                        <td id=\"T_9d9714b0_e754_11ec_9bba_a0afbd4ac5eerow3_col22\" class=\"data row3 col22\" >0</td>\n",
       "                        <td id=\"T_9d9714b0_e754_11ec_9bba_a0afbd4ac5eerow3_col23\" class=\"data row3 col23\" >0 days 06:46:27</td>\n",
       "                        <td id=\"T_9d9714b0_e754_11ec_9bba_a0afbd4ac5eerow3_col24\" class=\"data row3 col24\" >6.77417</td>\n",
       "                        <td id=\"T_9d9714b0_e754_11ec_9bba_a0afbd4ac5eerow3_col25\" class=\"data row3 col25\" >406.45</td>\n",
       "                        <td id=\"T_9d9714b0_e754_11ec_9bba_a0afbd4ac5eerow3_col26\" class=\"data row3 col26\" >0.693812</td>\n",
       "                        <td id=\"T_9d9714b0_e754_11ec_9bba_a0afbd4ac5eerow3_col27\" class=\"data row3 col27\" >0</td>\n",
       "            </tr>\n",
       "            <tr>\n",
       "                        <th id=\"T_9d9714b0_e754_11ec_9bba_a0afbd4ac5eelevel0_row4\" class=\"row_heading level0 row4\" >6240</th>\n",
       "                        <td id=\"T_9d9714b0_e754_11ec_9bba_a0afbd4ac5eerow4_col0\" class=\"data row4 col0\" >2</td>\n",
       "                        <td id=\"T_9d9714b0_e754_11ec_9bba_a0afbd4ac5eerow4_col1\" class=\"data row4 col1\" >2017-03-01 00:29:17</td>\n",
       "                        <td id=\"T_9d9714b0_e754_11ec_9bba_a0afbd4ac5eerow4_col2\" class=\"data row4 col2\" >2017-03-02 00:00:00</td>\n",
       "                        <td id=\"T_9d9714b0_e754_11ec_9bba_a0afbd4ac5eerow4_col3\" class=\"data row4 col3\" >1</td>\n",
       "                        <td id=\"T_9d9714b0_e754_11ec_9bba_a0afbd4ac5eerow4_col4\" class=\"data row4 col4\" >6.25</td>\n",
       "                        <td id=\"T_9d9714b0_e754_11ec_9bba_a0afbd4ac5eerow4_col5\" class=\"data row4 col5\" >1</td>\n",
       "                        <td id=\"T_9d9714b0_e754_11ec_9bba_a0afbd4ac5eerow4_col6\" class=\"data row4 col6\" >N</td>\n",
       "                        <td id=\"T_9d9714b0_e754_11ec_9bba_a0afbd4ac5eerow4_col7\" class=\"data row4 col7\" >230</td>\n",
       "                        <td id=\"T_9d9714b0_e754_11ec_9bba_a0afbd4ac5eerow4_col8\" class=\"data row4 col8\" >97</td>\n",
       "                        <td id=\"T_9d9714b0_e754_11ec_9bba_a0afbd4ac5eerow4_col9\" class=\"data row4 col9\" >1</td>\n",
       "                        <td id=\"T_9d9714b0_e754_11ec_9bba_a0afbd4ac5eerow4_col10\" class=\"data row4 col10\" >21.5</td>\n",
       "                        <td id=\"T_9d9714b0_e754_11ec_9bba_a0afbd4ac5eerow4_col11\" class=\"data row4 col11\" >0.5</td>\n",
       "                        <td id=\"T_9d9714b0_e754_11ec_9bba_a0afbd4ac5eerow4_col12\" class=\"data row4 col12\" >0.5</td>\n",
       "                        <td id=\"T_9d9714b0_e754_11ec_9bba_a0afbd4ac5eerow4_col13\" class=\"data row4 col13\" >4.56</td>\n",
       "                        <td id=\"T_9d9714b0_e754_11ec_9bba_a0afbd4ac5eerow4_col14\" class=\"data row4 col14\" >0</td>\n",
       "                        <td id=\"T_9d9714b0_e754_11ec_9bba_a0afbd4ac5eerow4_col15\" class=\"data row4 col15\" >0.3</td>\n",
       "                        <td id=\"T_9d9714b0_e754_11ec_9bba_a0afbd4ac5eerow4_col16\" class=\"data row4 col16\" >27.36</td>\n",
       "                        <td id=\"T_9d9714b0_e754_11ec_9bba_a0afbd4ac5eerow4_col17\" class=\"data row4 col17\" >2017-03-01</td>\n",
       "                        <td id=\"T_9d9714b0_e754_11ec_9bba_a0afbd4ac5eerow4_col18\" class=\"data row4 col18\" >2017-03-02</td>\n",
       "                        <td id=\"T_9d9714b0_e754_11ec_9bba_a0afbd4ac5eerow4_col19\" class=\"data row4 col19\" >2017</td>\n",
       "                        <td id=\"T_9d9714b0_e754_11ec_9bba_a0afbd4ac5eerow4_col20\" class=\"data row4 col20\" >3</td>\n",
       "                        <td id=\"T_9d9714b0_e754_11ec_9bba_a0afbd4ac5eerow4_col21\" class=\"data row4 col21\" >2</td>\n",
       "                        <td id=\"T_9d9714b0_e754_11ec_9bba_a0afbd4ac5eerow4_col22\" class=\"data row4 col22\" >0</td>\n",
       "                        <td id=\"T_9d9714b0_e754_11ec_9bba_a0afbd4ac5eerow4_col23\" class=\"data row4 col23\" >0 days 23:30:43</td>\n",
       "                        <td id=\"T_9d9714b0_e754_11ec_9bba_a0afbd4ac5eerow4_col24\" class=\"data row4 col24\" >23.5119</td>\n",
       "                        <td id=\"T_9d9714b0_e754_11ec_9bba_a0afbd4ac5eerow4_col25\" class=\"data row4 col25\" >1410.72</td>\n",
       "                        <td id=\"T_9d9714b0_e754_11ec_9bba_a0afbd4ac5eerow4_col26\" class=\"data row4 col26\" >0.265822</td>\n",
       "                        <td id=\"T_9d9714b0_e754_11ec_9bba_a0afbd4ac5eerow4_col27\" class=\"data row4 col27\" >16.6667</td>\n",
       "            </tr>\n",
       "    </tbody></table>"
      ],
      "text/plain": [
       "<pandas.io.formats.style.Styler at 0x1fa7ad2eec8>"
      ]
     },
     "execution_count": 65,
     "metadata": {},
     "output_type": "execute_result"
    }
   ],
   "source": [
    "trips.loc[trips['duration_min']>=110].head().style.apply(custom_style, axis=1)"
   ]
  },
  {
   "cell_type": "markdown",
   "metadata": {},
   "source": [
    "As we mentioned before, the durations > 100 min correspond to possible errors since the distances covered in miles are very small for such excessive periods."
   ]
  },
  {
   "cell_type": "code",
   "execution_count": 10,
   "metadata": {},
   "outputs": [],
   "source": [
    "trips = trips.loc[(trips['duration_min']>0) & (trips['duration_min']<100)]"
   ]
  },
  {
   "cell_type": "markdown",
   "metadata": {},
   "source": [
    "##### Speed\n",
    "\n",
    "Speed is the ratio of trip_distance to trip_duration. We have to eliminate all the trips with a speed higher than 200 mph  since this is next to the highest speed for cars commonly used as taxi, in addition the speed limit in NYC is 50 mph but it might be sometimes violated. So, if we see the distribution we use the limit of 120 mph, to keep most of the options."
   ]
  },
  {
   "cell_type": "code",
   "execution_count": 67,
   "metadata": {},
   "outputs": [
    {
     "data": {
      "image/png": "[encoded data removed]",
      "text/plain": [
       "<Figure size 720x432 with 1 Axes>"
      ]
     },
     "metadata": {
      "needs_background": "light"
     },
     "output_type": "display_data"
    }
   ],
   "source": [
    "plt.figure(figsize=(10, 6))\n",
    "sns.distplot(trips.loc[trips['trip_speed_mph']<120]['trip_speed_mph'],  color = '#623dc8')\n",
    "\n",
    "plt.show()"
   ]
  },
  {
   "cell_type": "markdown",
   "metadata": {},
   "source": [
    "The distributions looks good, because most of the trips are under 50 mph"
   ]
  },
  {
   "cell_type": "code",
   "execution_count": 11,
   "metadata": {},
   "outputs": [],
   "source": [
    "#now with the speed we can eliminate outliers\n",
    "trips = trips.loc[trips['trip_speed_mph']<100]"
   ]
  },
  {
   "cell_type": "markdown",
   "metadata": {},
   "source": [
    "## Saving the dataset"
   ]
  },
  {
   "cell_type": "markdown",
   "metadata": {},
   "source": [
    "We save the preprocessed dataset in pickle format."
   ]
  },
  {
   "cell_type": "code",
   "execution_count": 3,
   "metadata": {},
   "outputs": [],
   "source": [
    "# save to pickle\n",
    "trips.to_pickle('/../Data/processed/data_preprocessed.pkl')"
   ]
  },
  {
   "cell_type": "markdown",
   "metadata": {},
   "source": [
    "## Optional datasets\n",
    "\n",
    "##### Weather in NYC in 2017"
   ]
  },
  {
   "cell_type": "markdown",
   "metadata": {},
   "source": [
    "Due to the capacity of my computer, it has been impossible for me to join the auxiliary datasets to the raw data, due to memory problems. That is why this step is indicative but it has been done in the following notebooks."
   ]
  },
  {
   "cell_type": "code",
   "execution_count": 15,
   "metadata": {},
   "outputs": [],
   "source": [
    "weather = pd.read_csv('/../Data/external/data_weather_2017.csv')"
   ]
  },
  {
   "cell_type": "code",
   "execution_count": 16,
   "metadata": {},
   "outputs": [],
   "source": [
    "weather = weather[['DATE','AWND','PRCP','SNOW','SNWD','TMAX','TMIN']]\n",
    "weather['TAVG'] = (weather['TMAX']+weather['TMIN'])/2\n",
    "weather['DATE'] = pd.to_datetime(weather['DATE'])\n",
    "weather = weather.drop(columns=['TMAX','TMIN'])"
   ]
  },
  {
   "cell_type": "code",
   "execution_count": 17,
   "metadata": {},
   "outputs": [],
   "source": [
    "trips['date'] = trips['tpep_pickup_datetime'].dt.normalize()\n",
    "trips = pd.DataFrame(pd.merge(trips, weather, left_on='date', right_on='DATE')).drop('DATE', axis=1)"
   ]
  },
  {
   "cell_type": "code",
   "execution_count": 17,
   "metadata": {},
   "outputs": [
    {
     "data": {
      "text/plain": [
       "(19789609, 34)"
      ]
     },
     "execution_count": 17,
     "metadata": {},
     "output_type": "execute_result"
    }
   ],
   "source": [
    "trips.shape"
   ]
  },
  {
   "cell_type": "markdown",
   "metadata": {},
   "source": [
    "##### Taxi Zone shapefile - zones "
   ]
  },
  {
   "cell_type": "markdown",
   "metadata": {},
   "source": [
    "Another interesting variable is knowing in which direction the taxi is going. Due to the computational capacity of my computer, we are going to create simple variables, to see if it impacts the tip provided by the passenger.\n",
    "\n",
    "To know the address we need to calculate the pick-up and arrival coordinates. The hypothesis is that the traffic can affect the mood of the passenger when it comes to giving a tip, or the pick-up area as well as the arrival can have a great influence."
   ]
  },
  {
   "cell_type": "markdown",
   "metadata": {},
   "source": [
    "In order to get the coordinates of the trips we need the coordinates of the pick-up and drop-off areas. We use the files:\n",
    "\n",
    "    Taxi Zone Lookup Table (CSV)\n",
    "    Taxi Zone Shapefile (ZIP)\n",
    "\n",
    "From https://www1.nyc.gov/site/tlc/about/tlc-trip-record-data.page"
   ]
  },
  {
   "cell_type": "code",
   "execution_count": 16,
   "metadata": {},
   "outputs": [],
   "source": [
    "# taxi zone shapefile from https://www1.nyc.gov/site/tlc/about/tlc-trip-record-data.page\n",
    "sf_zones = gpd.read_file('/../Data/external/taxi_zones.shp')\n",
    "zone = pd.read_csv(\"/../Data/external/taxi_zone_lookup.csv\")\n",
    "\n",
    "# Coordinate Reference Systems\n",
    "sf_zones['geometry'] = sf_zones['geometry'].to_crs('+proj=longlat +ellps=WGS84 +datum=WGS84 +no_defs')\n",
    "sf_zones['lon'] = sf_zones.centroid.x\n",
    "sf_zones['lat'] = sf_zones.centroid.y"
   ]
  },
  {
   "cell_type": "code",
   "execution_count": 17,
   "metadata": {},
   "outputs": [],
   "source": [
    "trips_zones = pd.merge(trips, sf_zones, left_on='PULocationID', right_on='LocationID')"
   ]
  },
  {
   "cell_type": "code",
   "execution_count": 18,
   "metadata": {},
   "outputs": [],
   "source": [
    "trips_zones = pd.merge(trips_zones, sf_zones, left_on='DOLocationID', right_on='LocationID')"
   ]
  },
  {
   "cell_type": "code",
   "execution_count": 19,
   "metadata": {},
   "outputs": [],
   "source": [
    "trips_zones.rename(columns = {'geometry_x':'geometry_pu', 'geometry_y':'geometry_do', \n",
    "                              'lon_x':'lon_pu', 'lon_y':'lon_do',\n",
    "                              'lat_x':'lat_pu', 'lat_y':'lat_do',\n",
    "                              'zone_x':'zone_pu', 'zone_y':'zone_do',\n",
    "                              'OBJECTID_x':'OBJECTID_pu', 'OBJECTID_y':'OBJECTID_do',\n",
    "                              'LocationID_x':'LocationID_pu', 'LocationID_y':'LocationID_do',\n",
    "                              'borough_x':'borough_pu', 'borough_y':'borough_do',\n",
    "                              'Shape_Leng_x':'Shape_Leng_pu', 'Shape_Leng_y':'Shape_Leng_do',\n",
    "                              'Shape_Area_x':'Shape_Area_pu', 'Shape_Area_y':'Shape_Area_do' }, inplace = True)"
   ]
  },
  {
   "cell_type": "code",
   "execution_count": null,
   "metadata": {},
   "outputs": [],
   "source": []
  }
 ],
 "metadata": {
  "kernelspec": {
   "display_name": "Python 3",
   "language": "python",
   "name": "python3"
  },
  "language_info": {
   "codemirror_mode": {
    "name": "ipython",
    "version": 3
   },
   "file_extension": ".py",
   "mimetype": "text/x-python",
   "name": "python",
   "nbconvert_exporter": "python",
   "pygments_lexer": "ipython3",
   "version": "3.7.4"
  }
 },
 "nbformat": 4,
 "nbformat_minor": 2
}
