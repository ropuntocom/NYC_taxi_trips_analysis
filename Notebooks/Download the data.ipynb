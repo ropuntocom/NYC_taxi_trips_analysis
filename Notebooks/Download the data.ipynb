{
 "cells": [
  {
   "cell_type": "markdown",
   "metadata": {},
   "source": [
    "# Download the raw data \n",
    "from https://www1.nyc.gov/site/tlc/about/tlc-trip-record-data.page"
   ]
  },
  {
   "cell_type": "code",
   "execution_count": 3,
   "metadata": {},
   "outputs": [
    {
     "name": "stdout",
     "output_type": "stream",
     "text": [
      "Download finished of the file yellow_tripdata_2017-03.parquet in ../Data/raw_data/\n",
      "Download finished of the file yellow_tripdata_2017-06.parquet in ../Data/raw_data/\n",
      "Download finished of the file yellow_tripdata_2017-11.parquet in ../Data/raw_data/\n"
     ]
    }
   ],
   "source": [
    "# https://www1.nyc.gov/site/tlc/about/tlc-trip-record-data.page -> redirected to https://s3.amazonaws.com/nyc-tlc/trip+data/...\n",
    "\n",
    "#Libraries\n",
    "from os.path import getsize\n",
    "from urllib.request import urlretrieve\n",
    "import gc\n",
    "# Inputs\n",
    "\n",
    "# Select the output directory\n",
    "out_dir = \"../input/raw_data/\"\n",
    "\n",
    "# Select the year of the raw data \n",
    "year = \"2017\"\n",
    "\n",
    "# Select the months you want from the raw data year\n",
    "months = [3,6,11]\n",
    "\n",
    "fname = \"yellow_tripdata_\" + year\n",
    "\n",
    "for m in months:\n",
    "    month = str(m).zfill(2)\n",
    "    out = f'{fname}-{month}.parquet'\n",
    "    url = f\"https://s3.amazonaws.com/nyc-tlc/trip+data/{out}\"\n",
    "    urlretrieve(url, f\"{out_dir}/{out}\")\n",
    "\n",
    "    print(f\"Download finished of the file {out} in {out_dir}\")"
   ]
  },
  {
   "cell_type": "code",
   "execution_count": 5,
   "metadata": {},
   "outputs": [],
   "source": [
    "# read datasets\n",
    "read_dir = \"../Data/raw_data/\"\n",
    "\n",
    "trips1 = pq.read_table(read_dir+'/yellow_tripdata_2017-03.parquet').to_pandas()\n",
    "trips2 = pq.read_table(read_dir+'/yellow_tripdata_2017-06.parquet').to_pandas()\n",
    "trips3 = pq.read_table(read_dir+'/yellow_tripdata_2017-11.parquet').to_pandas()\n",
    "\n",
    "# combine the data\n",
    "trips = pd.concat([trips1, trips2, trips3]).reset_index(drop=True)\n",
    "\n",
    "del trips1,trips2,trips3\n",
    "gc.collect()"
   ]
  },
  {
   "cell_type": "code",
   "execution_count": 6,
   "metadata": {},
   "outputs": [],
   "source": [
    "# save to pickle\n",
    "trips.to_pickle('../Data/raw_data/raw_data_2017.pkl')"
   ]
  }
 ],
 "metadata": {
  "kernelspec": {
   "display_name": "Python 3",
   "language": "python",
   "name": "python3"
  },
  "language_info": {
   "codemirror_mode": {
    "name": "ipython",
    "version": 3
   },
   "file_extension": ".py",
   "mimetype": "text/x-python",
   "name": "python",
   "nbconvert_exporter": "python",
   "pygments_lexer": "ipython3",
   "version": "3.7.4"
  }
 },
 "nbformat": 4,
 "nbformat_minor": 2
}
